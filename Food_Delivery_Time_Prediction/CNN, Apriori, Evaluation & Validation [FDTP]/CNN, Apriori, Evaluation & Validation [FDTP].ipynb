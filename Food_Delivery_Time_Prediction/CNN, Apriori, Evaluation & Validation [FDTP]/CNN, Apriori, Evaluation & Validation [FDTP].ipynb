{
 "cells": [
  {
   "cell_type": "markdown",
   "id": "d805672b-fd76-4ffb-af97-495b5997a4dc",
   "metadata": {},
   "source": [
    "## Objective\n",
    "The goal is to predict whether a food delivery will be \"Fast\" or \"Delayed\" based on various features like customer location, restaurant location, weather, traffic conditions, etc. This dataset will be used to explore CNN and evaluation/validation techniques.\n",
    "## Phase 1 - Data Preprocessing and Feature Engineering"
   ]
  },
  {
   "cell_type": "code",
   "execution_count": 34,
   "id": "55e34958-1368-4f15-8be3-37d82112af75",
   "metadata": {},
   "outputs": [],
   "source": [
    "# Importing Libraries\n",
    "import pandas as pd\n",
    "import numpy as np\n",
    "import seaborn as sns\n",
    "import matplotlib.pyplot as plt"
   ]
  },
  {
   "cell_type": "code",
   "execution_count": 35,
   "id": "21ed29a7-86a7-4898-8b22-2006fe338dde",
   "metadata": {},
   "outputs": [
    {
     "data": {
      "text/html": [
       "<div>\n",
       "<style scoped>\n",
       "    .dataframe tbody tr th:only-of-type {\n",
       "        vertical-align: middle;\n",
       "    }\n",
       "\n",
       "    .dataframe tbody tr th {\n",
       "        vertical-align: top;\n",
       "    }\n",
       "\n",
       "    .dataframe thead th {\n",
       "        text-align: right;\n",
       "    }\n",
       "</style>\n",
       "<table border=\"1\" class=\"dataframe\">\n",
       "  <thead>\n",
       "    <tr style=\"text-align: right;\">\n",
       "      <th></th>\n",
       "      <th>Order_ID</th>\n",
       "      <th>Customer_Location</th>\n",
       "      <th>Restaurant_Location</th>\n",
       "      <th>Distance</th>\n",
       "      <th>Weather_Conditions</th>\n",
       "      <th>Traffic_Conditions</th>\n",
       "      <th>Delivery_Person_Experience</th>\n",
       "      <th>Order_Priority</th>\n",
       "      <th>Order_Time</th>\n",
       "      <th>Vehicle_Type</th>\n",
       "      <th>Restaurant_Rating</th>\n",
       "      <th>Customer_Rating</th>\n",
       "      <th>Delivery_Time</th>\n",
       "      <th>Order_Cost</th>\n",
       "      <th>Tip_Amount</th>\n",
       "    </tr>\n",
       "  </thead>\n",
       "  <tbody>\n",
       "    <tr>\n",
       "      <th>0</th>\n",
       "      <td>ORD0001</td>\n",
       "      <td>(17.030479, 79.743077)</td>\n",
       "      <td>(12.358515, 85.100083)</td>\n",
       "      <td>1.57</td>\n",
       "      <td>Rainy</td>\n",
       "      <td>Medium</td>\n",
       "      <td>4</td>\n",
       "      <td>Medium</td>\n",
       "      <td>Afternoon</td>\n",
       "      <td>Car</td>\n",
       "      <td>4.1</td>\n",
       "      <td>3.0</td>\n",
       "      <td>26.22</td>\n",
       "      <td>1321.10</td>\n",
       "      <td>81.54</td>\n",
       "    </tr>\n",
       "    <tr>\n",
       "      <th>1</th>\n",
       "      <td>ORD0002</td>\n",
       "      <td>(15.398319, 86.639122)</td>\n",
       "      <td>(14.174874, 77.025606)</td>\n",
       "      <td>21.32</td>\n",
       "      <td>Cloudy</td>\n",
       "      <td>Medium</td>\n",
       "      <td>8</td>\n",
       "      <td>Low</td>\n",
       "      <td>Night</td>\n",
       "      <td>Car</td>\n",
       "      <td>4.5</td>\n",
       "      <td>4.2</td>\n",
       "      <td>62.61</td>\n",
       "      <td>152.21</td>\n",
       "      <td>29.02</td>\n",
       "    </tr>\n",
       "    <tr>\n",
       "      <th>2</th>\n",
       "      <td>ORD0003</td>\n",
       "      <td>(15.687342, 83.888808)</td>\n",
       "      <td>(19.594748, 82.048482)</td>\n",
       "      <td>6.95</td>\n",
       "      <td>Snowy</td>\n",
       "      <td>Medium</td>\n",
       "      <td>9</td>\n",
       "      <td>High</td>\n",
       "      <td>Night</td>\n",
       "      <td>Bike</td>\n",
       "      <td>3.3</td>\n",
       "      <td>3.4</td>\n",
       "      <td>48.43</td>\n",
       "      <td>1644.38</td>\n",
       "      <td>64.17</td>\n",
       "    </tr>\n",
       "    <tr>\n",
       "      <th>3</th>\n",
       "      <td>ORD0004</td>\n",
       "      <td>(20.415599, 78.046984)</td>\n",
       "      <td>(16.915906, 78.278698)</td>\n",
       "      <td>13.79</td>\n",
       "      <td>Cloudy</td>\n",
       "      <td>Low</td>\n",
       "      <td>2</td>\n",
       "      <td>Medium</td>\n",
       "      <td>Evening</td>\n",
       "      <td>Bike</td>\n",
       "      <td>3.2</td>\n",
       "      <td>3.7</td>\n",
       "      <td>111.63</td>\n",
       "      <td>541.25</td>\n",
       "      <td>79.23</td>\n",
       "    </tr>\n",
       "    <tr>\n",
       "      <th>4</th>\n",
       "      <td>ORD0005</td>\n",
       "      <td>(14.786904, 78.706532)</td>\n",
       "      <td>(15.206038, 86.203182)</td>\n",
       "      <td>6.72</td>\n",
       "      <td>Rainy</td>\n",
       "      <td>High</td>\n",
       "      <td>6</td>\n",
       "      <td>Low</td>\n",
       "      <td>Night</td>\n",
       "      <td>Bike</td>\n",
       "      <td>3.5</td>\n",
       "      <td>2.8</td>\n",
       "      <td>32.38</td>\n",
       "      <td>619.81</td>\n",
       "      <td>2.34</td>\n",
       "    </tr>\n",
       "  </tbody>\n",
       "</table>\n",
       "</div>"
      ],
      "text/plain": [
       "  Order_ID       Customer_Location     Restaurant_Location  Distance  \\\n",
       "0  ORD0001  (17.030479, 79.743077)  (12.358515, 85.100083)      1.57   \n",
       "1  ORD0002  (15.398319, 86.639122)  (14.174874, 77.025606)     21.32   \n",
       "2  ORD0003  (15.687342, 83.888808)  (19.594748, 82.048482)      6.95   \n",
       "3  ORD0004  (20.415599, 78.046984)  (16.915906, 78.278698)     13.79   \n",
       "4  ORD0005  (14.786904, 78.706532)  (15.206038, 86.203182)      6.72   \n",
       "\n",
       "  Weather_Conditions Traffic_Conditions  Delivery_Person_Experience  \\\n",
       "0              Rainy             Medium                           4   \n",
       "1             Cloudy             Medium                           8   \n",
       "2              Snowy             Medium                           9   \n",
       "3             Cloudy                Low                           2   \n",
       "4              Rainy               High                           6   \n",
       "\n",
       "  Order_Priority Order_Time Vehicle_Type  Restaurant_Rating  Customer_Rating  \\\n",
       "0         Medium  Afternoon          Car                4.1              3.0   \n",
       "1            Low      Night          Car                4.5              4.2   \n",
       "2           High      Night         Bike                3.3              3.4   \n",
       "3         Medium    Evening         Bike                3.2              3.7   \n",
       "4            Low      Night         Bike                3.5              2.8   \n",
       "\n",
       "   Delivery_Time  Order_Cost  Tip_Amount  \n",
       "0          26.22     1321.10       81.54  \n",
       "1          62.61      152.21       29.02  \n",
       "2          48.43     1644.38       64.17  \n",
       "3         111.63      541.25       79.23  \n",
       "4          32.38      619.81        2.34  "
      ]
     },
     "execution_count": 35,
     "metadata": {},
     "output_type": "execute_result"
    }
   ],
   "source": [
    "df = pd.read_csv(\"Food_Delivery_Time_Prediction.csv\")\n",
    "df.head()"
   ]
  },
  {
   "cell_type": "code",
   "execution_count": 36,
   "id": "27761462-308a-4408-aea7-dbfa07239c3c",
   "metadata": {},
   "outputs": [
    {
     "name": "stdout",
     "output_type": "stream",
     "text": [
      "<class 'pandas.core.frame.DataFrame'>\n",
      "RangeIndex: 200 entries, 0 to 199\n",
      "Data columns (total 15 columns):\n",
      " #   Column                      Non-Null Count  Dtype  \n",
      "---  ------                      --------------  -----  \n",
      " 0   Order_ID                    200 non-null    object \n",
      " 1   Customer_Location           200 non-null    object \n",
      " 2   Restaurant_Location         200 non-null    object \n",
      " 3   Distance                    200 non-null    float64\n",
      " 4   Weather_Conditions          200 non-null    object \n",
      " 5   Traffic_Conditions          200 non-null    object \n",
      " 6   Delivery_Person_Experience  200 non-null    int64  \n",
      " 7   Order_Priority              200 non-null    object \n",
      " 8   Order_Time                  200 non-null    object \n",
      " 9   Vehicle_Type                200 non-null    object \n",
      " 10  Restaurant_Rating           200 non-null    float64\n",
      " 11  Customer_Rating             200 non-null    float64\n",
      " 12  Delivery_Time               200 non-null    float64\n",
      " 13  Order_Cost                  200 non-null    float64\n",
      " 14  Tip_Amount                  200 non-null    float64\n",
      "dtypes: float64(6), int64(1), object(8)\n",
      "memory usage: 23.6+ KB\n"
     ]
    }
   ],
   "source": [
    "df.info()"
   ]
  },
  {
   "cell_type": "code",
   "execution_count": 37,
   "id": "e6d4637f-b7ac-4af5-9c88-a505bc3e8f95",
   "metadata": {},
   "outputs": [
    {
     "data": {
      "text/html": [
       "<div>\n",
       "<style scoped>\n",
       "    .dataframe tbody tr th:only-of-type {\n",
       "        vertical-align: middle;\n",
       "    }\n",
       "\n",
       "    .dataframe tbody tr th {\n",
       "        vertical-align: top;\n",
       "    }\n",
       "\n",
       "    .dataframe thead th {\n",
       "        text-align: right;\n",
       "    }\n",
       "</style>\n",
       "<table border=\"1\" class=\"dataframe\">\n",
       "  <thead>\n",
       "    <tr style=\"text-align: right;\">\n",
       "      <th></th>\n",
       "      <th>Distance</th>\n",
       "      <th>Delivery_Person_Experience</th>\n",
       "      <th>Restaurant_Rating</th>\n",
       "      <th>Customer_Rating</th>\n",
       "      <th>Delivery_Time</th>\n",
       "      <th>Order_Cost</th>\n",
       "      <th>Tip_Amount</th>\n",
       "    </tr>\n",
       "  </thead>\n",
       "  <tbody>\n",
       "    <tr>\n",
       "      <th>count</th>\n",
       "      <td>200.000000</td>\n",
       "      <td>200.000000</td>\n",
       "      <td>200.000000</td>\n",
       "      <td>200.000000</td>\n",
       "      <td>200.000000</td>\n",
       "      <td>200.000000</td>\n",
       "      <td>200.000000</td>\n",
       "    </tr>\n",
       "    <tr>\n",
       "      <th>mean</th>\n",
       "      <td>11.498050</td>\n",
       "      <td>5.250000</td>\n",
       "      <td>3.738500</td>\n",
       "      <td>3.686500</td>\n",
       "      <td>70.494950</td>\n",
       "      <td>1046.488700</td>\n",
       "      <td>46.616650</td>\n",
       "    </tr>\n",
       "    <tr>\n",
       "      <th>std</th>\n",
       "      <td>6.841755</td>\n",
       "      <td>2.745027</td>\n",
       "      <td>0.703021</td>\n",
       "      <td>0.697063</td>\n",
       "      <td>29.830694</td>\n",
       "      <td>548.568922</td>\n",
       "      <td>29.361706</td>\n",
       "    </tr>\n",
       "    <tr>\n",
       "      <th>min</th>\n",
       "      <td>0.520000</td>\n",
       "      <td>1.000000</td>\n",
       "      <td>2.500000</td>\n",
       "      <td>2.600000</td>\n",
       "      <td>15.230000</td>\n",
       "      <td>122.300000</td>\n",
       "      <td>1.240000</td>\n",
       "    </tr>\n",
       "    <tr>\n",
       "      <th>25%</th>\n",
       "      <td>6.090000</td>\n",
       "      <td>3.000000</td>\n",
       "      <td>3.200000</td>\n",
       "      <td>3.100000</td>\n",
       "      <td>46.997500</td>\n",
       "      <td>553.270000</td>\n",
       "      <td>21.602500</td>\n",
       "    </tr>\n",
       "    <tr>\n",
       "      <th>50%</th>\n",
       "      <td>10.265000</td>\n",
       "      <td>5.000000</td>\n",
       "      <td>3.800000</td>\n",
       "      <td>3.700000</td>\n",
       "      <td>72.775000</td>\n",
       "      <td>1035.950000</td>\n",
       "      <td>47.530000</td>\n",
       "    </tr>\n",
       "    <tr>\n",
       "      <th>75%</th>\n",
       "      <td>16.497500</td>\n",
       "      <td>8.000000</td>\n",
       "      <td>4.300000</td>\n",
       "      <td>4.300000</td>\n",
       "      <td>96.650000</td>\n",
       "      <td>1543.125000</td>\n",
       "      <td>70.245000</td>\n",
       "    </tr>\n",
       "    <tr>\n",
       "      <th>max</th>\n",
       "      <td>24.900000</td>\n",
       "      <td>10.000000</td>\n",
       "      <td>5.000000</td>\n",
       "      <td>5.000000</td>\n",
       "      <td>119.670000</td>\n",
       "      <td>1997.420000</td>\n",
       "      <td>99.740000</td>\n",
       "    </tr>\n",
       "  </tbody>\n",
       "</table>\n",
       "</div>"
      ],
      "text/plain": [
       "         Distance  Delivery_Person_Experience  Restaurant_Rating  \\\n",
       "count  200.000000                  200.000000         200.000000   \n",
       "mean    11.498050                    5.250000           3.738500   \n",
       "std      6.841755                    2.745027           0.703021   \n",
       "min      0.520000                    1.000000           2.500000   \n",
       "25%      6.090000                    3.000000           3.200000   \n",
       "50%     10.265000                    5.000000           3.800000   \n",
       "75%     16.497500                    8.000000           4.300000   \n",
       "max     24.900000                   10.000000           5.000000   \n",
       "\n",
       "       Customer_Rating  Delivery_Time   Order_Cost  Tip_Amount  \n",
       "count       200.000000     200.000000   200.000000  200.000000  \n",
       "mean          3.686500      70.494950  1046.488700   46.616650  \n",
       "std           0.697063      29.830694   548.568922   29.361706  \n",
       "min           2.600000      15.230000   122.300000    1.240000  \n",
       "25%           3.100000      46.997500   553.270000   21.602500  \n",
       "50%           3.700000      72.775000  1035.950000   47.530000  \n",
       "75%           4.300000      96.650000  1543.125000   70.245000  \n",
       "max           5.000000     119.670000  1997.420000   99.740000  "
      ]
     },
     "execution_count": 37,
     "metadata": {},
     "output_type": "execute_result"
    }
   ],
   "source": [
    "df.describe()"
   ]
  },
  {
   "cell_type": "code",
   "execution_count": 38,
   "id": "4e9a9dee-69fc-49f8-b20b-df8224537e2b",
   "metadata": {},
   "outputs": [
    {
     "data": {
      "text/plain": [
       "Order_ID                      0\n",
       "Customer_Location             0\n",
       "Restaurant_Location           0\n",
       "Distance                      0\n",
       "Weather_Conditions            0\n",
       "Traffic_Conditions            0\n",
       "Delivery_Person_Experience    0\n",
       "Order_Priority                0\n",
       "Order_Time                    0\n",
       "Vehicle_Type                  0\n",
       "Restaurant_Rating             0\n",
       "Customer_Rating               0\n",
       "Delivery_Time                 0\n",
       "Order_Cost                    0\n",
       "Tip_Amount                    0\n",
       "dtype: int64"
      ]
     },
     "execution_count": 38,
     "metadata": {},
     "output_type": "execute_result"
    }
   ],
   "source": [
    "df.isna().sum()"
   ]
  },
  {
   "cell_type": "code",
   "execution_count": 39,
   "id": "6c532132-a683-4cd0-8274-3a2f0eb5f214",
   "metadata": {},
   "outputs": [
    {
     "data": {
      "text/html": [
       "<div>\n",
       "<style scoped>\n",
       "    .dataframe tbody tr th:only-of-type {\n",
       "        vertical-align: middle;\n",
       "    }\n",
       "\n",
       "    .dataframe tbody tr th {\n",
       "        vertical-align: top;\n",
       "    }\n",
       "\n",
       "    .dataframe thead th {\n",
       "        text-align: right;\n",
       "    }\n",
       "</style>\n",
       "<table border=\"1\" class=\"dataframe\">\n",
       "  <thead>\n",
       "    <tr style=\"text-align: right;\">\n",
       "      <th></th>\n",
       "      <th>Order_ID</th>\n",
       "      <th>Customer_Location</th>\n",
       "      <th>Restaurant_Location</th>\n",
       "      <th>Distance</th>\n",
       "      <th>Weather_Conditions</th>\n",
       "      <th>Traffic_Conditions</th>\n",
       "      <th>Delivery_Person_Experience</th>\n",
       "      <th>Order_Priority</th>\n",
       "      <th>Order_Time</th>\n",
       "      <th>Vehicle_Type</th>\n",
       "      <th>Restaurant_Rating</th>\n",
       "      <th>Customer_Rating</th>\n",
       "      <th>Delivery_Time</th>\n",
       "      <th>Order_Cost</th>\n",
       "      <th>Tip_Amount</th>\n",
       "    </tr>\n",
       "  </thead>\n",
       "  <tbody>\n",
       "    <tr>\n",
       "      <th>0</th>\n",
       "      <td>ORD0001</td>\n",
       "      <td>(17.030479, 79.743077)</td>\n",
       "      <td>(12.358515, 85.100083)</td>\n",
       "      <td>1.57</td>\n",
       "      <td>1</td>\n",
       "      <td>2</td>\n",
       "      <td>4</td>\n",
       "      <td>2</td>\n",
       "      <td>0</td>\n",
       "      <td>2</td>\n",
       "      <td>4.1</td>\n",
       "      <td>3.0</td>\n",
       "      <td>26.22</td>\n",
       "      <td>1321.10</td>\n",
       "      <td>81.54</td>\n",
       "    </tr>\n",
       "    <tr>\n",
       "      <th>1</th>\n",
       "      <td>ORD0002</td>\n",
       "      <td>(15.398319, 86.639122)</td>\n",
       "      <td>(14.174874, 77.025606)</td>\n",
       "      <td>21.32</td>\n",
       "      <td>0</td>\n",
       "      <td>2</td>\n",
       "      <td>8</td>\n",
       "      <td>1</td>\n",
       "      <td>3</td>\n",
       "      <td>2</td>\n",
       "      <td>4.5</td>\n",
       "      <td>4.2</td>\n",
       "      <td>62.61</td>\n",
       "      <td>152.21</td>\n",
       "      <td>29.02</td>\n",
       "    </tr>\n",
       "    <tr>\n",
       "      <th>2</th>\n",
       "      <td>ORD0003</td>\n",
       "      <td>(15.687342, 83.888808)</td>\n",
       "      <td>(19.594748, 82.048482)</td>\n",
       "      <td>6.95</td>\n",
       "      <td>2</td>\n",
       "      <td>2</td>\n",
       "      <td>9</td>\n",
       "      <td>0</td>\n",
       "      <td>3</td>\n",
       "      <td>1</td>\n",
       "      <td>3.3</td>\n",
       "      <td>3.4</td>\n",
       "      <td>48.43</td>\n",
       "      <td>1644.38</td>\n",
       "      <td>64.17</td>\n",
       "    </tr>\n",
       "    <tr>\n",
       "      <th>3</th>\n",
       "      <td>ORD0004</td>\n",
       "      <td>(20.415599, 78.046984)</td>\n",
       "      <td>(16.915906, 78.278698)</td>\n",
       "      <td>13.79</td>\n",
       "      <td>0</td>\n",
       "      <td>1</td>\n",
       "      <td>2</td>\n",
       "      <td>2</td>\n",
       "      <td>1</td>\n",
       "      <td>1</td>\n",
       "      <td>3.2</td>\n",
       "      <td>3.7</td>\n",
       "      <td>111.63</td>\n",
       "      <td>541.25</td>\n",
       "      <td>79.23</td>\n",
       "    </tr>\n",
       "    <tr>\n",
       "      <th>4</th>\n",
       "      <td>ORD0005</td>\n",
       "      <td>(14.786904, 78.706532)</td>\n",
       "      <td>(15.206038, 86.203182)</td>\n",
       "      <td>6.72</td>\n",
       "      <td>1</td>\n",
       "      <td>0</td>\n",
       "      <td>6</td>\n",
       "      <td>1</td>\n",
       "      <td>3</td>\n",
       "      <td>1</td>\n",
       "      <td>3.5</td>\n",
       "      <td>2.8</td>\n",
       "      <td>32.38</td>\n",
       "      <td>619.81</td>\n",
       "      <td>2.34</td>\n",
       "    </tr>\n",
       "  </tbody>\n",
       "</table>\n",
       "</div>"
      ],
      "text/plain": [
       "  Order_ID       Customer_Location     Restaurant_Location  Distance  \\\n",
       "0  ORD0001  (17.030479, 79.743077)  (12.358515, 85.100083)      1.57   \n",
       "1  ORD0002  (15.398319, 86.639122)  (14.174874, 77.025606)     21.32   \n",
       "2  ORD0003  (15.687342, 83.888808)  (19.594748, 82.048482)      6.95   \n",
       "3  ORD0004  (20.415599, 78.046984)  (16.915906, 78.278698)     13.79   \n",
       "4  ORD0005  (14.786904, 78.706532)  (15.206038, 86.203182)      6.72   \n",
       "\n",
       "   Weather_Conditions  Traffic_Conditions  Delivery_Person_Experience  \\\n",
       "0                   1                   2                           4   \n",
       "1                   0                   2                           8   \n",
       "2                   2                   2                           9   \n",
       "3                   0                   1                           2   \n",
       "4                   1                   0                           6   \n",
       "\n",
       "   Order_Priority  Order_Time  Vehicle_Type  Restaurant_Rating  \\\n",
       "0               2           0             2                4.1   \n",
       "1               1           3             2                4.5   \n",
       "2               0           3             1                3.3   \n",
       "3               2           1             1                3.2   \n",
       "4               1           3             1                3.5   \n",
       "\n",
       "   Customer_Rating  Delivery_Time  Order_Cost  Tip_Amount  \n",
       "0              3.0          26.22     1321.10       81.54  \n",
       "1              4.2          62.61      152.21       29.02  \n",
       "2              3.4          48.43     1644.38       64.17  \n",
       "3              3.7         111.63      541.25       79.23  \n",
       "4              2.8          32.38      619.81        2.34  "
      ]
     },
     "execution_count": 39,
     "metadata": {},
     "output_type": "execute_result"
    }
   ],
   "source": [
    "from sklearn.preprocessing import LabelEncoder\n",
    "# Label Encoding\n",
    "cat_features = [\"Weather_Conditions\", \"Traffic_Conditions\", \"Order_Priority\", \"Vehicle_Type\", \"Order_Time\"]\n",
    "\n",
    "for i in cat_features:\n",
    "    le = LabelEncoder()\n",
    "    df[i] = le.fit_transform(df[i])\n",
    "\n",
    "df.head()"
   ]
  },
  {
   "cell_type": "code",
   "execution_count": 40,
   "id": "1d5d0390-008d-43e3-a0f6-6ca40a321d33",
   "metadata": {},
   "outputs": [],
   "source": [
    "# Create a binary target label from Delivery_Time\n",
    "df['Delivery_Status'] = df['Delivery_Time'].apply(lambda x: 'Fast' if x <= 45 else 'Delayed')\n",
    "le_status = LabelEncoder()\n",
    "df['Delivery_Status_Label'] = le_status.fit_transform(df['Delivery_Status'])\n",
    "# Drop the original human-readable label to avoid redundancy\n",
    "df.drop(columns=[\"Delivery_Status\"], inplace=True)"
   ]
  },
  {
   "cell_type": "code",
   "execution_count": 41,
   "id": "cd11db37-66ec-4af8-9b1d-0245dbf15820",
   "metadata": {},
   "outputs": [
    {
     "data": {
      "text/plain": [
       "Delivery_Status_Label\n",
       "0    151\n",
       "1     49\n",
       "Name: count, dtype: int64"
      ]
     },
     "execution_count": 41,
     "metadata": {},
     "output_type": "execute_result"
    }
   ],
   "source": [
    "df['Delivery_Status_Label'].value_counts()"
   ]
  },
  {
   "cell_type": "code",
   "execution_count": 42,
   "id": "0a57a1a2-8060-4e34-9a7a-8853b0e2c5fe",
   "metadata": {},
   "outputs": [],
   "source": [
    "# Feature Engineering\n",
    "def haversine(coord1, coord2):\n",
    "    from math import radians, sin, cos, sqrt, atan2\n",
    "\n",
    "    lat1, lon1 = map(float, coord1.strip(\"()\").split(\",\"))\n",
    "    lat2, lon2 = map(float, coord2.strip(\"()\").split(\",\"))\n",
    "\n",
    "    R = 6371  # Earth radius in kilometers\n",
    "    dlat = radians(lat2 - lat1)\n",
    "    dlon = radians(lon2 - lon1)\n",
    "\n",
    "    a = sin(dlat / 2)**2 + cos(radians(lat1)) * cos(radians(lat2)) * sin(dlon / 2)**2\n",
    "    c = 2 * atan2(sqrt(a), sqrt(1 - a))\n",
    "    return R * c\n",
    "\n",
    "df['Geo_Distance'] = df.apply(lambda row: haversine(row['Customer_Location'], row['Restaurant_Location']), axis=1)"
   ]
  },
  {
   "cell_type": "code",
   "execution_count": 43,
   "id": "a9730aa8-121c-47d6-8528-cf36fcc45f33",
   "metadata": {},
   "outputs": [],
   "source": [
    "from sklearn.preprocessing import MinMaxScaler\n",
    "# Normalize numerical features\n",
    "numerical_cols =  ['Distance', 'Delivery_Person_Experience', 'Restaurant_Rating',\n",
    "                'Customer_Rating', 'Delivery_Time', 'Order_Cost', 'Tip_Amount', 'Geo_Distance']\n",
    "scaler = MinMaxScaler()\n",
    "df[numerical_cols] = scaler.fit_transform(df[numerical_cols])"
   ]
  },
  {
   "cell_type": "code",
   "execution_count": 44,
   "id": "bfd97294-a99b-44a7-9849-6c54364c39c6",
   "metadata": {},
   "outputs": [],
   "source": [
    "# Time Based feature Rush hour typically 7-9 AM & 5-7 PM\n",
    "rush_hours = {'Afternoon': 0, 'Evening': 1, 'Night': 0, 'Morning': 1}\n",
    "df['Rush_Hour'] = df['Order_Time'].map(lambda x: 1 if x in ['Morning', 'Evening'] else 0)"
   ]
  },
  {
   "cell_type": "code",
   "execution_count": 45,
   "id": "6b02a635-be68-4736-b43c-2cf1bd58f22a",
   "metadata": {},
   "outputs": [
    {
     "data": {
      "text/html": [
       "<div>\n",
       "<style scoped>\n",
       "    .dataframe tbody tr th:only-of-type {\n",
       "        vertical-align: middle;\n",
       "    }\n",
       "\n",
       "    .dataframe tbody tr th {\n",
       "        vertical-align: top;\n",
       "    }\n",
       "\n",
       "    .dataframe thead th {\n",
       "        text-align: right;\n",
       "    }\n",
       "</style>\n",
       "<table border=\"1\" class=\"dataframe\">\n",
       "  <thead>\n",
       "    <tr style=\"text-align: right;\">\n",
       "      <th></th>\n",
       "      <th>Order_ID</th>\n",
       "      <th>Customer_Location</th>\n",
       "      <th>Restaurant_Location</th>\n",
       "      <th>Distance</th>\n",
       "      <th>Weather_Conditions</th>\n",
       "      <th>Traffic_Conditions</th>\n",
       "      <th>Delivery_Person_Experience</th>\n",
       "      <th>Order_Priority</th>\n",
       "      <th>Order_Time</th>\n",
       "      <th>Vehicle_Type</th>\n",
       "      <th>Restaurant_Rating</th>\n",
       "      <th>Customer_Rating</th>\n",
       "      <th>Delivery_Time</th>\n",
       "      <th>Order_Cost</th>\n",
       "      <th>Tip_Amount</th>\n",
       "      <th>Delivery_Status_Label</th>\n",
       "      <th>Geo_Distance</th>\n",
       "      <th>Rush_Hour</th>\n",
       "    </tr>\n",
       "  </thead>\n",
       "  <tbody>\n",
       "    <tr>\n",
       "      <th>0</th>\n",
       "      <td>ORD0001</td>\n",
       "      <td>(17.030479, 79.743077)</td>\n",
       "      <td>(12.358515, 85.100083)</td>\n",
       "      <td>0.043068</td>\n",
       "      <td>1</td>\n",
       "      <td>2</td>\n",
       "      <td>0.333333</td>\n",
       "      <td>2</td>\n",
       "      <td>0</td>\n",
       "      <td>2</td>\n",
       "      <td>0.64</td>\n",
       "      <td>0.166667</td>\n",
       "      <td>0.105228</td>\n",
       "      <td>0.639319</td>\n",
       "      <td>0.815228</td>\n",
       "      <td>1</td>\n",
       "      <td>0.587518</td>\n",
       "      <td>0</td>\n",
       "    </tr>\n",
       "    <tr>\n",
       "      <th>1</th>\n",
       "      <td>ORD0002</td>\n",
       "      <td>(15.398319, 86.639122)</td>\n",
       "      <td>(14.174874, 77.025606)</td>\n",
       "      <td>0.853158</td>\n",
       "      <td>0</td>\n",
       "      <td>2</td>\n",
       "      <td>0.777778</td>\n",
       "      <td>1</td>\n",
       "      <td>3</td>\n",
       "      <td>2</td>\n",
       "      <td>0.80</td>\n",
       "      <td>0.666667</td>\n",
       "      <td>0.453658</td>\n",
       "      <td>0.015951</td>\n",
       "      <td>0.282030</td>\n",
       "      <td>0</td>\n",
       "      <td>0.797649</td>\n",
       "      <td>0</td>\n",
       "    </tr>\n",
       "    <tr>\n",
       "      <th>2</th>\n",
       "      <td>ORD0003</td>\n",
       "      <td>(15.687342, 83.888808)</td>\n",
       "      <td>(19.594748, 82.048482)</td>\n",
       "      <td>0.263741</td>\n",
       "      <td>2</td>\n",
       "      <td>2</td>\n",
       "      <td>0.888889</td>\n",
       "      <td>0</td>\n",
       "      <td>3</td>\n",
       "      <td>1</td>\n",
       "      <td>0.32</td>\n",
       "      <td>0.333333</td>\n",
       "      <td>0.317886</td>\n",
       "      <td>0.811724</td>\n",
       "      <td>0.638883</td>\n",
       "      <td>0</td>\n",
       "      <td>0.351630</td>\n",
       "      <td>0</td>\n",
       "    </tr>\n",
       "    <tr>\n",
       "      <th>3</th>\n",
       "      <td>ORD0004</td>\n",
       "      <td>(20.415599, 78.046984)</td>\n",
       "      <td>(16.915906, 78.278698)</td>\n",
       "      <td>0.544299</td>\n",
       "      <td>0</td>\n",
       "      <td>1</td>\n",
       "      <td>0.111111</td>\n",
       "      <td>2</td>\n",
       "      <td>1</td>\n",
       "      <td>1</td>\n",
       "      <td>0.28</td>\n",
       "      <td>0.458333</td>\n",
       "      <td>0.923018</td>\n",
       "      <td>0.223426</td>\n",
       "      <td>0.791777</td>\n",
       "      <td>0</td>\n",
       "      <td>0.283637</td>\n",
       "      <td>0</td>\n",
       "    </tr>\n",
       "    <tr>\n",
       "      <th>4</th>\n",
       "      <td>ORD0005</td>\n",
       "      <td>(14.786904, 78.706532)</td>\n",
       "      <td>(15.206038, 86.203182)</td>\n",
       "      <td>0.254307</td>\n",
       "      <td>1</td>\n",
       "      <td>0</td>\n",
       "      <td>0.555556</td>\n",
       "      <td>1</td>\n",
       "      <td>3</td>\n",
       "      <td>1</td>\n",
       "      <td>0.40</td>\n",
       "      <td>0.083333</td>\n",
       "      <td>0.164209</td>\n",
       "      <td>0.265322</td>\n",
       "      <td>0.011168</td>\n",
       "      <td>1</td>\n",
       "      <td>0.611825</td>\n",
       "      <td>0</td>\n",
       "    </tr>\n",
       "  </tbody>\n",
       "</table>\n",
       "</div>"
      ],
      "text/plain": [
       "  Order_ID       Customer_Location     Restaurant_Location  Distance  \\\n",
       "0  ORD0001  (17.030479, 79.743077)  (12.358515, 85.100083)  0.043068   \n",
       "1  ORD0002  (15.398319, 86.639122)  (14.174874, 77.025606)  0.853158   \n",
       "2  ORD0003  (15.687342, 83.888808)  (19.594748, 82.048482)  0.263741   \n",
       "3  ORD0004  (20.415599, 78.046984)  (16.915906, 78.278698)  0.544299   \n",
       "4  ORD0005  (14.786904, 78.706532)  (15.206038, 86.203182)  0.254307   \n",
       "\n",
       "   Weather_Conditions  Traffic_Conditions  Delivery_Person_Experience  \\\n",
       "0                   1                   2                    0.333333   \n",
       "1                   0                   2                    0.777778   \n",
       "2                   2                   2                    0.888889   \n",
       "3                   0                   1                    0.111111   \n",
       "4                   1                   0                    0.555556   \n",
       "\n",
       "   Order_Priority  Order_Time  Vehicle_Type  Restaurant_Rating  \\\n",
       "0               2           0             2               0.64   \n",
       "1               1           3             2               0.80   \n",
       "2               0           3             1               0.32   \n",
       "3               2           1             1               0.28   \n",
       "4               1           3             1               0.40   \n",
       "\n",
       "   Customer_Rating  Delivery_Time  Order_Cost  Tip_Amount  \\\n",
       "0         0.166667       0.105228    0.639319    0.815228   \n",
       "1         0.666667       0.453658    0.015951    0.282030   \n",
       "2         0.333333       0.317886    0.811724    0.638883   \n",
       "3         0.458333       0.923018    0.223426    0.791777   \n",
       "4         0.083333       0.164209    0.265322    0.011168   \n",
       "\n",
       "   Delivery_Status_Label  Geo_Distance  Rush_Hour  \n",
       "0                      1      0.587518          0  \n",
       "1                      0      0.797649          0  \n",
       "2                      0      0.351630          0  \n",
       "3                      0      0.283637          0  \n",
       "4                      1      0.611825          0  "
      ]
     },
     "execution_count": 45,
     "metadata": {},
     "output_type": "execute_result"
    }
   ],
   "source": [
    "df.head()"
   ]
  },
  {
   "cell_type": "markdown",
   "id": "e582560b-0850-4156-ae28-c13631614e94",
   "metadata": {},
   "source": [
    "## Phase 2 - Convolutional Neural Network (CNN)\n",
    "* We do not need literal map images. Since CNNs can learn from numeric “image-shaped” data, we used:\n",
    "    - Distance\n",
    "    - Geo_Distance\n",
    "    - Traffic, Weather, etc.\n",
    "    - All normalized to [0, 1]\n",
    "- Total: 16 features → padded to 4×4 grid"
   ]
  },
  {
   "cell_type": "code",
   "execution_count": 46,
   "id": "bf56ebfa-cdc6-4540-a544-b19b4e05ff5b",
   "metadata": {},
   "outputs": [],
   "source": [
    "from sklearn.model_selection import train_test_split\n",
    "# Select features for CNN input\n",
    "features = df.drop(columns=[\"Order_ID\", \"Customer_Location\", \"Restaurant_Location\", \"Delivery_Status_Label\"])\n",
    "# Select target for CNN\n",
    "labels = df[\"Delivery_Status_Label\"].values"
   ]
  },
  {
   "cell_type": "code",
   "execution_count": 47,
   "id": "397d406e-a3c6-45d9-ba2b-c520bf5d8f69",
   "metadata": {},
   "outputs": [
    {
     "data": {
      "text/plain": [
       "(200, 14)"
      ]
     },
     "execution_count": 47,
     "metadata": {},
     "output_type": "execute_result"
    }
   ],
   "source": [
    "# Features to numpy array\n",
    "X = features.values.astype(np.float32)\n",
    "X.shape"
   ]
  },
  {
   "cell_type": "code",
   "execution_count": 48,
   "id": "cb6680e5-cc3f-47a7-be8b-b048b53c764e",
   "metadata": {},
   "outputs": [],
   "source": [
    "# Pad to make 4x4 grid if required\n",
    "if X.shape[1] < 16:\n",
    "    X = np.pad(X, ((0,0),(0,16-X.shape[1])), mode=\"constant\")\n",
    "\n",
    "# Reshaping into image format\n",
    "X_img = X.reshape(-1,4,4,1)"
   ]
  },
  {
   "cell_type": "code",
   "execution_count": 49,
   "id": "125f1c09-bbfc-4021-bec3-f01356beea1d",
   "metadata": {},
   "outputs": [
    {
     "data": {
      "text/plain": [
       "((160, 4, 4, 1), (40, 4, 4, 1), (160,), (40,))"
      ]
     },
     "execution_count": 49,
     "metadata": {},
     "output_type": "execute_result"
    }
   ],
   "source": [
    "# Train-test split\n",
    "X_train, X_test, y_train, y_test = train_test_split(X_img, labels, test_size=0.2, random_state=20)\n",
    "X_train.shape, X_test.shape, y_train.shape, y_test.shape"
   ]
  },
  {
   "cell_type": "code",
   "execution_count": 50,
   "id": "8f261e20-25ee-40fa-9ad7-11b6fd16c7b5",
   "metadata": {},
   "outputs": [
    {
     "name": "stderr",
     "output_type": "stream",
     "text": [
      "C:\\ProgramData\\anaconda3\\Lib\\site-packages\\keras\\src\\layers\\convolutional\\base_conv.py:107: UserWarning: Do not pass an `input_shape`/`input_dim` argument to a layer. When using Sequential models, prefer using an `Input(shape)` object as the first layer in the model instead.\n",
      "  super().__init__(activity_regularizer=activity_regularizer, **kwargs)\n"
     ]
    }
   ],
   "source": [
    "from tensorflow import keras\n",
    "\n",
    "# Define CNN model\n",
    "model = keras.Sequential([\n",
    "    keras.layers.Conv2D(32, (2, 2), activation='relu', input_shape=(4, 4, 1)),\n",
    "    keras.layers.MaxPooling2D((2, 2)),\n",
    "    \n",
    "    keras.layers.Flatten(),\n",
    "    keras.layers.Dense(64, activation='relu'),\n",
    "    keras.layers.Dropout(0.3),\n",
    "    keras.layers.Dense(1, activation='sigmoid')  # Binary output\n",
    "])\n",
    "\n",
    "# Compile model\n",
    "model.compile(optimizer=keras.optimizers.Adam(learning_rate=0.01), loss='binary_crossentropy', metrics=['accuracy'])"
   ]
  },
  {
   "cell_type": "code",
   "execution_count": 51,
   "id": "782e7d9a-411a-4097-80ce-5c78ca22c8b8",
   "metadata": {
    "scrolled": true
   },
   "outputs": [
    {
     "name": "stdout",
     "output_type": "stream",
     "text": [
      "Epoch 1/50\n",
      "\u001b[1m8/8\u001b[0m \u001b[32m━━━━━━━━━━━━━━━━━━━━\u001b[0m\u001b[37m\u001b[0m \u001b[1m1s\u001b[0m 23ms/step - accuracy: 0.7535 - loss: 0.5909 - val_accuracy: 0.7188 - val_loss: 0.5890\n",
      "Epoch 2/50\n",
      "\u001b[1m8/8\u001b[0m \u001b[32m━━━━━━━━━━━━━━━━━━━━\u001b[0m\u001b[37m\u001b[0m \u001b[1m0s\u001b[0m 6ms/step - accuracy: 0.7285 - loss: 0.6278 - val_accuracy: 0.7188 - val_loss: 0.5817\n",
      "Epoch 3/50\n",
      "\u001b[1m8/8\u001b[0m \u001b[32m━━━━━━━━━━━━━━━━━━━━\u001b[0m\u001b[37m\u001b[0m \u001b[1m0s\u001b[0m 5ms/step - accuracy: 0.7247 - loss: 0.5962 - val_accuracy: 0.7188 - val_loss: 0.5874\n",
      "Epoch 4/50\n",
      "\u001b[1m8/8\u001b[0m \u001b[32m━━━━━━━━━━━━━━━━━━━━\u001b[0m\u001b[37m\u001b[0m \u001b[1m0s\u001b[0m 5ms/step - accuracy: 0.7553 - loss: 0.5753 - val_accuracy: 0.7188 - val_loss: 0.5875\n",
      "Epoch 5/50\n",
      "\u001b[1m8/8\u001b[0m \u001b[32m━━━━━━━━━━━━━━━━━━━━\u001b[0m\u001b[37m\u001b[0m \u001b[1m0s\u001b[0m 6ms/step - accuracy: 0.7729 - loss: 0.5248 - val_accuracy: 0.7188 - val_loss: 0.5818\n",
      "Epoch 6/50\n",
      "\u001b[1m8/8\u001b[0m \u001b[32m━━━━━━━━━━━━━━━━━━━━\u001b[0m\u001b[37m\u001b[0m \u001b[1m0s\u001b[0m 5ms/step - accuracy: 0.7552 - loss: 0.5635 - val_accuracy: 0.7188 - val_loss: 0.5774\n",
      "Epoch 7/50\n",
      "\u001b[1m8/8\u001b[0m \u001b[32m━━━━━━━━━━━━━━━━━━━━\u001b[0m\u001b[37m\u001b[0m \u001b[1m0s\u001b[0m 7ms/step - accuracy: 0.7723 - loss: 0.5286 - val_accuracy: 0.7188 - val_loss: 0.5853\n",
      "Epoch 8/50\n",
      "\u001b[1m8/8\u001b[0m \u001b[32m━━━━━━━━━━━━━━━━━━━━\u001b[0m\u001b[37m\u001b[0m \u001b[1m0s\u001b[0m 6ms/step - accuracy: 0.7336 - loss: 0.5718 - val_accuracy: 0.7188 - val_loss: 0.5604\n",
      "Epoch 9/50\n",
      "\u001b[1m8/8\u001b[0m \u001b[32m━━━━━━━━━━━━━━━━━━━━\u001b[0m\u001b[37m\u001b[0m \u001b[1m0s\u001b[0m 5ms/step - accuracy: 0.7525 - loss: 0.5544 - val_accuracy: 0.7188 - val_loss: 0.5558\n",
      "Epoch 10/50\n",
      "\u001b[1m8/8\u001b[0m \u001b[32m━━━━━━━━━━━━━━━━━━━━\u001b[0m\u001b[37m\u001b[0m \u001b[1m0s\u001b[0m 5ms/step - accuracy: 0.7170 - loss: 0.5737 - val_accuracy: 0.7188 - val_loss: 0.5449\n",
      "Epoch 11/50\n",
      "\u001b[1m8/8\u001b[0m \u001b[32m━━━━━━━━━━━━━━━━━━━━\u001b[0m\u001b[37m\u001b[0m \u001b[1m0s\u001b[0m 5ms/step - accuracy: 0.7477 - loss: 0.5380 - val_accuracy: 0.7188 - val_loss: 0.5570\n",
      "Epoch 12/50\n",
      "\u001b[1m8/8\u001b[0m \u001b[32m━━━━━━━━━━━━━━━━━━━━\u001b[0m\u001b[37m\u001b[0m \u001b[1m0s\u001b[0m 4ms/step - accuracy: 0.7106 - loss: 0.5824 - val_accuracy: 0.7188 - val_loss: 0.5508\n",
      "Epoch 13/50\n",
      "\u001b[1m8/8\u001b[0m \u001b[32m━━━━━━━━━━━━━━━━━━━━\u001b[0m\u001b[37m\u001b[0m \u001b[1m0s\u001b[0m 6ms/step - accuracy: 0.6975 - loss: 0.5682 - val_accuracy: 0.7188 - val_loss: 0.5614\n",
      "Epoch 14/50\n",
      "\u001b[1m8/8\u001b[0m \u001b[32m━━━━━━━━━━━━━━━━━━━━\u001b[0m\u001b[37m\u001b[0m \u001b[1m0s\u001b[0m 5ms/step - accuracy: 0.7988 - loss: 0.4761 - val_accuracy: 0.7188 - val_loss: 0.5252\n",
      "Epoch 15/50\n",
      "\u001b[1m8/8\u001b[0m \u001b[32m━━━━━━━━━━━━━━━━━━━━\u001b[0m\u001b[37m\u001b[0m \u001b[1m0s\u001b[0m 5ms/step - accuracy: 0.7766 - loss: 0.5015 - val_accuracy: 0.7188 - val_loss: 0.5140\n",
      "Epoch 16/50\n",
      "\u001b[1m8/8\u001b[0m \u001b[32m━━━━━━━━━━━━━━━━━━━━\u001b[0m\u001b[37m\u001b[0m \u001b[1m0s\u001b[0m 5ms/step - accuracy: 0.7348 - loss: 0.5249 - val_accuracy: 0.7188 - val_loss: 0.5192\n",
      "Epoch 17/50\n",
      "\u001b[1m8/8\u001b[0m \u001b[32m━━━━━━━━━━━━━━━━━━━━\u001b[0m\u001b[37m\u001b[0m \u001b[1m0s\u001b[0m 5ms/step - accuracy: 0.7493 - loss: 0.5207 - val_accuracy: 0.7188 - val_loss: 0.4999\n",
      "Epoch 18/50\n",
      "\u001b[1m8/8\u001b[0m \u001b[32m━━━━━━━━━━━━━━━━━━━━\u001b[0m\u001b[37m\u001b[0m \u001b[1m0s\u001b[0m 5ms/step - accuracy: 0.7667 - loss: 0.4956 - val_accuracy: 0.7188 - val_loss: 0.4919\n",
      "Epoch 19/50\n",
      "\u001b[1m8/8\u001b[0m \u001b[32m━━━━━━━━━━━━━━━━━━━━\u001b[0m\u001b[37m\u001b[0m \u001b[1m0s\u001b[0m 5ms/step - accuracy: 0.7292 - loss: 0.5322 - val_accuracy: 0.7188 - val_loss: 0.4914\n",
      "Epoch 20/50\n",
      "\u001b[1m8/8\u001b[0m \u001b[32m━━━━━━━━━━━━━━━━━━━━\u001b[0m\u001b[37m\u001b[0m \u001b[1m0s\u001b[0m 5ms/step - accuracy: 0.7870 - loss: 0.5046 - val_accuracy: 0.7500 - val_loss: 0.4728\n",
      "Epoch 21/50\n",
      "\u001b[1m8/8\u001b[0m \u001b[32m━━━━━━━━━━━━━━━━━━━━\u001b[0m\u001b[37m\u001b[0m \u001b[1m0s\u001b[0m 5ms/step - accuracy: 0.8197 - loss: 0.4268 - val_accuracy: 0.7500 - val_loss: 0.4623\n",
      "Epoch 22/50\n",
      "\u001b[1m8/8\u001b[0m \u001b[32m━━━━━━━━━━━━━━━━━━━━\u001b[0m\u001b[37m\u001b[0m \u001b[1m0s\u001b[0m 5ms/step - accuracy: 0.7900 - loss: 0.4242 - val_accuracy: 0.7500 - val_loss: 0.4423\n",
      "Epoch 23/50\n",
      "\u001b[1m8/8\u001b[0m \u001b[32m━━━━━━━━━━━━━━━━━━━━\u001b[0m\u001b[37m\u001b[0m \u001b[1m0s\u001b[0m 5ms/step - accuracy: 0.7506 - loss: 0.4678 - val_accuracy: 0.7188 - val_loss: 0.4671\n",
      "Epoch 24/50\n",
      "\u001b[1m8/8\u001b[0m \u001b[32m━━━━━━━━━━━━━━━━━━━━\u001b[0m\u001b[37m\u001b[0m \u001b[1m0s\u001b[0m 5ms/step - accuracy: 0.8075 - loss: 0.3817 - val_accuracy: 0.7500 - val_loss: 0.4373\n",
      "Epoch 25/50\n",
      "\u001b[1m8/8\u001b[0m \u001b[32m━━━━━━━━━━━━━━━━━━━━\u001b[0m\u001b[37m\u001b[0m \u001b[1m0s\u001b[0m 5ms/step - accuracy: 0.8400 - loss: 0.4207 - val_accuracy: 0.7812 - val_loss: 0.4226\n",
      "Epoch 26/50\n",
      "\u001b[1m8/8\u001b[0m \u001b[32m━━━━━━━━━━━━━━━━━━━━\u001b[0m\u001b[37m\u001b[0m \u001b[1m0s\u001b[0m 6ms/step - accuracy: 0.8434 - loss: 0.4092 - val_accuracy: 0.7188 - val_loss: 0.4788\n",
      "Epoch 27/50\n",
      "\u001b[1m8/8\u001b[0m \u001b[32m━━━━━━━━━━━━━━━━━━━━\u001b[0m\u001b[37m\u001b[0m \u001b[1m0s\u001b[0m 6ms/step - accuracy: 0.7774 - loss: 0.4514 - val_accuracy: 0.7500 - val_loss: 0.4315\n",
      "Epoch 28/50\n",
      "\u001b[1m8/8\u001b[0m \u001b[32m━━━━━━━━━━━━━━━━━━━━\u001b[0m\u001b[37m\u001b[0m \u001b[1m0s\u001b[0m 6ms/step - accuracy: 0.9088 - loss: 0.3748 - val_accuracy: 0.7812 - val_loss: 0.4004\n",
      "Epoch 29/50\n",
      "\u001b[1m8/8\u001b[0m \u001b[32m━━━━━━━━━━━━━━━━━━━━\u001b[0m\u001b[37m\u001b[0m \u001b[1m0s\u001b[0m 6ms/step - accuracy: 0.8470 - loss: 0.3798 - val_accuracy: 0.7188 - val_loss: 0.4331\n",
      "Epoch 30/50\n",
      "\u001b[1m8/8\u001b[0m \u001b[32m━━━━━━━━━━━━━━━━━━━━\u001b[0m\u001b[37m\u001b[0m \u001b[1m0s\u001b[0m 6ms/step - accuracy: 0.8531 - loss: 0.3691 - val_accuracy: 0.7500 - val_loss: 0.4095\n",
      "Epoch 31/50\n",
      "\u001b[1m8/8\u001b[0m \u001b[32m━━━━━━━━━━━━━━━━━━━━\u001b[0m\u001b[37m\u001b[0m \u001b[1m0s\u001b[0m 5ms/step - accuracy: 0.8759 - loss: 0.3838 - val_accuracy: 0.8438 - val_loss: 0.3990\n",
      "Epoch 32/50\n",
      "\u001b[1m8/8\u001b[0m \u001b[32m━━━━━━━━━━━━━━━━━━━━\u001b[0m\u001b[37m\u001b[0m \u001b[1m0s\u001b[0m 5ms/step - accuracy: 0.7879 - loss: 0.4377 - val_accuracy: 0.7188 - val_loss: 0.6564\n",
      "Epoch 33/50\n",
      "\u001b[1m8/8\u001b[0m \u001b[32m━━━━━━━━━━━━━━━━━━━━\u001b[0m\u001b[37m\u001b[0m \u001b[1m0s\u001b[0m 5ms/step - accuracy: 0.7338 - loss: 0.5079 - val_accuracy: 0.7812 - val_loss: 0.4293\n",
      "Epoch 34/50\n",
      "\u001b[1m8/8\u001b[0m \u001b[32m━━━━━━━━━━━━━━━━━━━━\u001b[0m\u001b[37m\u001b[0m \u001b[1m0s\u001b[0m 5ms/step - accuracy: 0.8499 - loss: 0.3740 - val_accuracy: 0.7188 - val_loss: 0.4507\n",
      "Epoch 35/50\n",
      "\u001b[1m8/8\u001b[0m \u001b[32m━━━━━━━━━━━━━━━━━━━━\u001b[0m\u001b[37m\u001b[0m \u001b[1m0s\u001b[0m 5ms/step - accuracy: 0.8269 - loss: 0.3539 - val_accuracy: 0.7812 - val_loss: 0.3893\n",
      "Epoch 36/50\n",
      "\u001b[1m8/8\u001b[0m \u001b[32m━━━━━━━━━━━━━━━━━━━━\u001b[0m\u001b[37m\u001b[0m \u001b[1m0s\u001b[0m 5ms/step - accuracy: 0.8255 - loss: 0.3527 - val_accuracy: 0.7812 - val_loss: 0.4145\n",
      "Epoch 37/50\n",
      "\u001b[1m8/8\u001b[0m \u001b[32m━━━━━━━━━━━━━━━━━━━━\u001b[0m\u001b[37m\u001b[0m \u001b[1m0s\u001b[0m 5ms/step - accuracy: 0.8630 - loss: 0.3713 - val_accuracy: 0.8125 - val_loss: 0.3500\n",
      "Epoch 38/50\n",
      "\u001b[1m8/8\u001b[0m \u001b[32m━━━━━━━━━━━━━━━━━━━━\u001b[0m\u001b[37m\u001b[0m \u001b[1m0s\u001b[0m 5ms/step - accuracy: 0.8593 - loss: 0.3278 - val_accuracy: 0.8125 - val_loss: 0.3701\n",
      "Epoch 39/50\n",
      "\u001b[1m8/8\u001b[0m \u001b[32m━━━━━━━━━━━━━━━━━━━━\u001b[0m\u001b[37m\u001b[0m \u001b[1m0s\u001b[0m 5ms/step - accuracy: 0.8642 - loss: 0.3076 - val_accuracy: 0.7812 - val_loss: 0.3764\n",
      "Epoch 40/50\n",
      "\u001b[1m8/8\u001b[0m \u001b[32m━━━━━━━━━━━━━━━━━━━━\u001b[0m\u001b[37m\u001b[0m \u001b[1m0s\u001b[0m 5ms/step - accuracy: 0.8451 - loss: 0.3194 - val_accuracy: 0.7188 - val_loss: 0.4622\n",
      "Epoch 41/50\n",
      "\u001b[1m8/8\u001b[0m \u001b[32m━━━━━━━━━━━━━━━━━━━━\u001b[0m\u001b[37m\u001b[0m \u001b[1m0s\u001b[0m 5ms/step - accuracy: 0.8477 - loss: 0.3101 - val_accuracy: 0.8125 - val_loss: 0.3492\n",
      "Epoch 42/50\n",
      "\u001b[1m8/8\u001b[0m \u001b[32m━━━━━━━━━━━━━━━━━━━━\u001b[0m\u001b[37m\u001b[0m \u001b[1m0s\u001b[0m 5ms/step - accuracy: 0.8609 - loss: 0.3306 - val_accuracy: 0.7188 - val_loss: 0.4347\n",
      "Epoch 43/50\n",
      "\u001b[1m8/8\u001b[0m \u001b[32m━━━━━━━━━━━━━━━━━━━━\u001b[0m\u001b[37m\u001b[0m \u001b[1m0s\u001b[0m 5ms/step - accuracy: 0.8895 - loss: 0.2582 - val_accuracy: 0.7500 - val_loss: 0.3709\n",
      "Epoch 44/50\n",
      "\u001b[1m8/8\u001b[0m \u001b[32m━━━━━━━━━━━━━━━━━━━━\u001b[0m\u001b[37m\u001b[0m \u001b[1m0s\u001b[0m 5ms/step - accuracy: 0.8537 - loss: 0.3353 - val_accuracy: 0.8125 - val_loss: 0.3390\n",
      "Epoch 45/50\n",
      "\u001b[1m8/8\u001b[0m \u001b[32m━━━━━━━━━━━━━━━━━━━━\u001b[0m\u001b[37m\u001b[0m \u001b[1m0s\u001b[0m 5ms/step - accuracy: 0.8847 - loss: 0.2660 - val_accuracy: 0.7500 - val_loss: 0.3419\n",
      "Epoch 46/50\n",
      "\u001b[1m8/8\u001b[0m \u001b[32m━━━━━━━━━━━━━━━━━━━━\u001b[0m\u001b[37m\u001b[0m \u001b[1m0s\u001b[0m 5ms/step - accuracy: 0.8974 - loss: 0.2772 - val_accuracy: 0.7500 - val_loss: 0.4183\n",
      "Epoch 47/50\n",
      "\u001b[1m8/8\u001b[0m \u001b[32m━━━━━━━━━━━━━━━━━━━━\u001b[0m\u001b[37m\u001b[0m \u001b[1m0s\u001b[0m 5ms/step - accuracy: 0.8740 - loss: 0.2421 - val_accuracy: 0.8125 - val_loss: 0.3162\n",
      "Epoch 48/50\n",
      "\u001b[1m8/8\u001b[0m \u001b[32m━━━━━━━━━━━━━━━━━━━━\u001b[0m\u001b[37m\u001b[0m \u001b[1m0s\u001b[0m 5ms/step - accuracy: 0.8922 - loss: 0.2168 - val_accuracy: 0.7500 - val_loss: 0.3338\n",
      "Epoch 49/50\n",
      "\u001b[1m8/8\u001b[0m \u001b[32m━━━━━━━━━━━━━━━━━━━━\u001b[0m\u001b[37m\u001b[0m \u001b[1m0s\u001b[0m 5ms/step - accuracy: 0.9179 - loss: 0.1953 - val_accuracy: 0.7188 - val_loss: 0.3903\n",
      "Epoch 50/50\n",
      "\u001b[1m8/8\u001b[0m \u001b[32m━━━━━━━━━━━━━━━━━━━━\u001b[0m\u001b[37m\u001b[0m \u001b[1m0s\u001b[0m 5ms/step - accuracy: 0.9036 - loss: 0.2669 - val_accuracy: 0.8438 - val_loss: 0.3010\n"
     ]
    }
   ],
   "source": [
    "# Train the model\n",
    "history = model.fit(X_train, y_train, validation_split=0.2, epochs=50, batch_size=16)"
   ]
  },
  {
   "cell_type": "code",
   "execution_count": 52,
   "id": "bb7e6dad-b3ce-4475-b584-e720d49219e1",
   "metadata": {},
   "outputs": [
    {
     "name": "stdout",
     "output_type": "stream",
     "text": [
      "\u001b[1m2/2\u001b[0m \u001b[32m━━━━━━━━━━━━━━━━━━━━\u001b[0m\u001b[37m\u001b[0m \u001b[1m0s\u001b[0m 37ms/step\n"
     ]
    }
   ],
   "source": [
    "from sklearn.metrics import classification_report, confusion_matrix, accuracy_score\n",
    "# Predict on test set\n",
    "y_pred_probs = model.predict(X_test)\n",
    "y_pred = (y_pred_probs > 0.5).astype(int)"
   ]
  },
  {
   "cell_type": "code",
   "execution_count": 53,
   "id": "73d0885e-a196-42f3-ba4b-f22178727767",
   "metadata": {},
   "outputs": [
    {
     "name": "stdout",
     "output_type": "stream",
     "text": [
      "              precision    recall  f1-score   support\n",
      "\n",
      "           0       0.93      0.87      0.90        31\n",
      "           1       0.64      0.78      0.70         9\n",
      "\n",
      "    accuracy                           0.85        40\n",
      "   macro avg       0.78      0.82      0.80        40\n",
      "weighted avg       0.86      0.85      0.86        40\n",
      "\n",
      "Accuracy: 0.85\n"
     ]
    },
    {
     "data": {
      "image/png": "[encoded data removed]",
      "text/plain": [
       "<Figure size 640x480 with 2 Axes>"
      ]
     },
     "metadata": {},
     "output_type": "display_data"
    }
   ],
   "source": [
    "# Evaluation report\n",
    "print(classification_report(y_test, y_pred))\n",
    "print(\"Accuracy:\", accuracy_score(y_test, y_pred))\n",
    "\n",
    "# Confusion matrix\n",
    "cm = confusion_matrix(y_test, y_pred)\n",
    "sns.heatmap(cm, annot=True, fmt='d', cmap='Blues')\n",
    "plt.xlabel(\"Predicted\")\n",
    "plt.ylabel(\"Actual\")\n",
    "plt.title(\"Confusion Matrix\")\n",
    "plt.show()"
   ]
  },
  {
   "cell_type": "code",
   "execution_count": 63,
   "id": "b6ddcf3d-8a7c-45df-9cb7-810af28e6bf9",
   "metadata": {},
   "outputs": [
    {
     "name": "stdout",
     "output_type": "stream",
     "text": [
      "Training model with filter=32, kernel=(2, 2), lr=0.001\n",
      "\u001b[1m2/2\u001b[0m \u001b[32m━━━━━━━━━━━━━━━━━━━━\u001b[0m\u001b[37m\u001b[0m \u001b[1m0s\u001b[0m 37ms/step\n",
      "Accuracy: 0.7750\n",
      "Training model with filter=32, kernel=(2, 2), lr=0.0005\n",
      "\u001b[1m2/2\u001b[0m \u001b[32m━━━━━━━━━━━━━━━━━━━━\u001b[0m\u001b[37m\u001b[0m \u001b[1m0s\u001b[0m 36ms/step\n",
      "Accuracy: 0.7750\n",
      "Training model with filter=32, kernel=(3, 3), lr=0.001\n",
      "\u001b[1m2/2\u001b[0m \u001b[32m━━━━━━━━━━━━━━━━━━━━\u001b[0m\u001b[37m\u001b[0m \u001b[1m0s\u001b[0m 38ms/step\n",
      "Accuracy: 0.7750\n",
      "Training model with filter=32, kernel=(3, 3), lr=0.0005\n",
      "\u001b[1m2/2\u001b[0m \u001b[32m━━━━━━━━━━━━━━━━━━━━\u001b[0m\u001b[37m\u001b[0m \u001b[1m0s\u001b[0m 52ms/step\n",
      "Accuracy: 0.7750\n",
      "Training model with filter=64, kernel=(2, 2), lr=0.001\n",
      "\u001b[1m2/2\u001b[0m \u001b[32m━━━━━━━━━━━━━━━━━━━━\u001b[0m\u001b[37m\u001b[0m \u001b[1m0s\u001b[0m 37ms/step\n",
      "Accuracy: 0.7750\n",
      "Training model with filter=64, kernel=(2, 2), lr=0.0005\n",
      "\u001b[1m2/2\u001b[0m \u001b[32m━━━━━━━━━━━━━━━━━━━━\u001b[0m\u001b[37m\u001b[0m \u001b[1m0s\u001b[0m 46ms/step\n",
      "Accuracy: 0.7750\n",
      "Training model with filter=64, kernel=(3, 3), lr=0.001\n",
      "\u001b[1m2/2\u001b[0m \u001b[32m━━━━━━━━━━━━━━━━━━━━\u001b[0m\u001b[37m\u001b[0m \u001b[1m0s\u001b[0m 38ms/step\n",
      "Accuracy: 0.7750\n",
      "Training model with filter=64, kernel=(3, 3), lr=0.0005\n",
      "\u001b[1m2/2\u001b[0m \u001b[32m━━━━━━━━━━━━━━━━━━━━\u001b[0m\u001b[37m\u001b[0m \u001b[1m0s\u001b[0m 43ms/step\n",
      "Accuracy: 0.7750\n"
     ]
    }
   ],
   "source": [
    "# Model Improvement\n",
    "\n",
    "filter_options = [32, 64]           # We can adjust it accordingly\n",
    "kernel_options = [(2, 2), (3, 3)]   # We can adjust it accordingly\n",
    "learning_rates = [0.001, 0.0005]    # We can adjust it accordingly\n",
    "\n",
    "# Track best model\n",
    "best_accuracy = 0\n",
    "best_model = None\n",
    "best_config = {}\n",
    "\n",
    "for filters in filter_options:\n",
    "    for kernel in kernel_options:\n",
    "        for lr in learning_rates:\n",
    "            print(f\"Training model with filter={filters}, kernel={kernel}, lr={lr}\")\n",
    "            \n",
    "            model = keras.Sequential([\n",
    "                keras.Input(shape=(4,4,1)),\n",
    "                keras.layers.Conv2D(filters, kernel, activation='relu'),\n",
    "                keras.layers.MaxPooling2D((2, 2)),\n",
    "                keras.layers.Flatten(),\n",
    "                keras.layers.Dense(64, activation='relu'),\n",
    "                keras.layers.Dropout(0.3),\n",
    "                keras.layers.Dense(1, activation='sigmoid')])\n",
    "\n",
    "            model.compile(optimizer=keras.optimizers.Adam(learning_rate=lr), loss='binary_crossentropy', metrics=['accuracy'])\n",
    "\n",
    "            model.fit(X_train, y_train, epochs=20, batch_size=16, validation_split=0.2, verbose=0)\n",
    "            y_pred = (model.predict(X_test) > 0.5).astype(int)\n",
    "            acc = accuracy_score(y_test, y_pred)\n",
    "\n",
    "            print(f\"Accuracy: {acc:.4f}\")\n",
    "\n",
    "            if acc > best_accuracy:\n",
    "                best_accuracy = acc\n",
    "                best_model = model\n",
    "                best_config = {\"filters\": filters, \"kernel\": kernel, \"learning_rate\": lr}"
   ]
  },
  {
   "cell_type": "code",
   "execution_count": 64,
   "id": "3082e23c-8bde-4d14-a568-57efcb5639df",
   "metadata": {},
   "outputs": [
    {
     "name": "stdout",
     "output_type": "stream",
     "text": [
      "\n",
      "Best Configuration Found:\n",
      "{'filters': 32, 'kernel': (2, 2), 'learning_rate': 0.001}\n",
      "Best Accuracy: 0.7750\n"
     ]
    }
   ],
   "source": [
    "print(\"\\nBest Configuration Found:\")\n",
    "print(best_config)\n",
    "print(f\"Best Accuracy: {best_accuracy:.4f}\")"
   ]
  },
  {
   "cell_type": "code",
   "execution_count": 65,
   "id": "96cefb54-8129-4056-ab88-b190a122f000",
   "metadata": {},
   "outputs": [],
   "source": [
    "# Compare the CNN’s performance against a simpler model, as specified: Logistic Regression \n",
    "# Use same feature set as CNN before reshaping\n",
    "X_flat = features.values.astype(np.float32)  \n",
    "\n",
    "# Reuse existing labels\n",
    "y = labels"
   ]
  },
  {
   "cell_type": "code",
   "execution_count": 66,
   "id": "7446e063-f610-4208-b64d-9efbd15cc7d7",
   "metadata": {},
   "outputs": [
    {
     "data": {
      "text/plain": [
       "((160, 14), (40, 14), (160,), (40,))"
      ]
     },
     "execution_count": 66,
     "metadata": {},
     "output_type": "execute_result"
    }
   ],
   "source": [
    "# Train-Test Split\n",
    "X_train_lr, X_test_lr, y_train_lr, y_test_lr = train_test_split(X_flat, y, test_size=0.2, random_state=42)\n",
    "X_train_lr.shape, X_test_lr.shape, y_train_lr.shape, y_test_lr.shape"
   ]
  },
  {
   "cell_type": "code",
   "execution_count": 69,
   "id": "aa3586e5-171b-4d6a-a57a-9f158282a207",
   "metadata": {},
   "outputs": [],
   "source": [
    "from sklearn.linear_model import LogisticRegression\n",
    "# Model Training\n",
    "logreg = LogisticRegression(max_iter=100)\n",
    "logreg.fit(X_train_lr, y_train_lr)\n",
    "y_pred_lr = logreg.predict(X_test_lr)"
   ]
  },
  {
   "cell_type": "code",
   "execution_count": 70,
   "id": "c61df3f4-9729-4bfa-b032-c63a4b11238a",
   "metadata": {},
   "outputs": [
    {
     "name": "stdout",
     "output_type": "stream",
     "text": [
      "Logistic Regression Performance:\n",
      "              precision    recall  f1-score   support\n",
      "\n",
      "           0       0.97      1.00      0.98        30\n",
      "           1       1.00      0.90      0.95        10\n",
      "\n",
      "    accuracy                           0.97        40\n",
      "   macro avg       0.98      0.95      0.97        40\n",
      "weighted avg       0.98      0.97      0.97        40\n",
      "\n",
      "Accuracy: 0.975\n"
     ]
    },
    {
     "data": {
      "image/png": "[encoded data removed]",
      "text/plain": [
       "<Figure size 640x480 with 2 Axes>"
      ]
     },
     "metadata": {},
     "output_type": "display_data"
    }
   ],
   "source": [
    "# Evaluation report\n",
    "print(\"Logistic Regression Performance:\")\n",
    "print(classification_report(y_test_lr, y_pred_lr))\n",
    "print(\"Accuracy:\", accuracy_score(y_test_lr, y_pred_lr))\n",
    "\n",
    "# Confusion matrix\n",
    "cm_lr = confusion_matrix(y_test_lr, y_pred_lr)\n",
    "sns.heatmap(cm_lr, annot=True, fmt='d', cmap='Greens')\n",
    "plt.xlabel(\"Predicted\")\n",
    "plt.ylabel(\"Actual\")\n",
    "plt.title(\"Logistic Regression Confusion Matrix\")\n",
    "plt.show()"
   ]
  },
  {
   "cell_type": "code",
   "execution_count": 75,
   "id": "dcca5eae-752b-430a-87b8-f12c16c25763",
   "metadata": {},
   "outputs": [
    {
     "name": "stdout",
     "output_type": "stream",
     "text": [
      "\u001b[1m2/2\u001b[0m \u001b[32m━━━━━━━━━━━━━━━━━━━━\u001b[0m\u001b[37m\u001b[0m \u001b[1m0s\u001b[0m 16ms/step\n",
      "CNN Performance:\n",
      "              precision    recall  f1-score   support\n",
      "\n",
      "           0       0.78      1.00      0.87        31\n",
      "           1       0.00      0.00      0.00         9\n",
      "\n",
      "    accuracy                           0.78        40\n",
      "   macro avg       0.39      0.50      0.44        40\n",
      "weighted avg       0.60      0.78      0.68        40\n",
      "\n"
     ]
    },
    {
     "name": "stderr",
     "output_type": "stream",
     "text": [
      "C:\\Users\\EL-Dorado\\AppData\\Roaming\\Python\\Python312\\site-packages\\sklearn\\metrics\\_classification.py:1565: UndefinedMetricWarning: Precision is ill-defined and being set to 0.0 in labels with no predicted samples. Use `zero_division` parameter to control this behavior.\n",
      "  _warn_prf(average, modifier, f\"{metric.capitalize()} is\", len(result))\n",
      "C:\\Users\\EL-Dorado\\AppData\\Roaming\\Python\\Python312\\site-packages\\sklearn\\metrics\\_classification.py:1565: UndefinedMetricWarning: Precision is ill-defined and being set to 0.0 in labels with no predicted samples. Use `zero_division` parameter to control this behavior.\n",
      "  _warn_prf(average, modifier, f\"{metric.capitalize()} is\", len(result))\n",
      "C:\\Users\\EL-Dorado\\AppData\\Roaming\\Python\\Python312\\site-packages\\sklearn\\metrics\\_classification.py:1565: UndefinedMetricWarning: Precision is ill-defined and being set to 0.0 in labels with no predicted samples. Use `zero_division` parameter to control this behavior.\n",
      "  _warn_prf(average, modifier, f\"{metric.capitalize()} is\", len(result))\n"
     ]
    }
   ],
   "source": [
    "y_pred_cnn = (model.predict(X_test) > 0.5).astype(int)\n",
    "print(\"CNN Performance:\")\n",
    "print(classification_report(y_test, y_pred_cnn))"
   ]
  },
  {
   "cell_type": "markdown",
   "id": "6708bbe4-0e7b-4c8a-8e90-1cc13eb2803d",
   "metadata": {},
   "source": [
    "## Phase 3 - Model Evaluation and Validation"
   ]
  },
  {
   "cell_type": "code",
   "execution_count": 90,
   "id": "a01837a7-25e9-4c08-9a21-d060d3109dcf",
   "metadata": {},
   "outputs": [],
   "source": [
    "from sklearn.model_selection import KFold\n",
    "from sklearn.metrics import roc_auc_score, roc_curve\n",
    "\n",
    "kf = KFold(n_splits=5, shuffle=True, random_state=20)\n",
    "cnn_accuracy = list()\n",
    "cnn_auc_score= list()"
   ]
  },
  {
   "cell_type": "code",
   "execution_count": 91,
   "id": "214a6160-396d-46e3-8f33-02f07262f9b2",
   "metadata": {},
   "outputs": [
    {
     "name": "stdout",
     "output_type": "stream",
     "text": [
      "\n",
      "Fold 1:\n",
      "\u001b[1m2/2\u001b[0m \u001b[32m━━━━━━━━━━━━━━━━━━━━\u001b[0m\u001b[37m\u001b[0m \u001b[1m0s\u001b[0m 35ms/step\n",
      "Accuracy: 0.7750, AUC: 0.7384\n",
      "\n",
      "Fold 2:\n",
      "\u001b[1m2/2\u001b[0m \u001b[32m━━━━━━━━━━━━━━━━━━━━\u001b[0m\u001b[37m\u001b[0m \u001b[1m0s\u001b[0m 36ms/step\n",
      "Accuracy: 0.7000, AUC: 0.4286\n",
      "\n",
      "Fold 3:\n",
      "\u001b[1m2/2\u001b[0m \u001b[32m━━━━━━━━━━━━━━━━━━━━\u001b[0m\u001b[37m\u001b[0m \u001b[1m0s\u001b[0m 36ms/step\n",
      "Accuracy: 0.7750, AUC: 0.5520\n",
      "\n",
      "Fold 4:\n",
      "\u001b[1m2/2\u001b[0m \u001b[32m━━━━━━━━━━━━━━━━━━━━\u001b[0m\u001b[37m\u001b[0m \u001b[1m0s\u001b[0m 34ms/step\n",
      "Accuracy: 0.8000, AUC: 0.4492\n",
      "\n",
      "Fold 5:\n",
      "\u001b[1m2/2\u001b[0m \u001b[32m━━━━━━━━━━━━━━━━━━━━\u001b[0m\u001b[37m\u001b[0m \u001b[1m0s\u001b[0m 37ms/step\n",
      "Accuracy: 0.7250, AUC: 0.5987\n"
     ]
    }
   ],
   "source": [
    "for fold, (train_idx, val_idx) in enumerate(kf.split(X_img)):\n",
    "    print(f\"\\nFold {fold+1}:\")       # Starts with 0 so +1 --> 1,2,3,333\n",
    "    \n",
    "    X_train_fold, X_val_fold = X_img[train_idx], X_img[val_idx]\n",
    "    y_train_fold, y_val_fold = y[train_idx], y[val_idx]\n",
    "\n",
    "    model = keras.Sequential([\n",
    "        keras.Input(shape=(4, 4, 1)),\n",
    "        keras.layers.Conv2D(32, (2, 2), activation='relu'),\n",
    "        keras.layers.MaxPooling2D((2, 2)),\n",
    "        keras.layers.Flatten(),\n",
    "        keras.layers.Dense(64, activation='relu'),\n",
    "        keras.layers.Dropout(0.3),\n",
    "        keras.layers.Dense(1, activation='sigmoid')])\n",
    "    \n",
    "    model.compile(optimizer=keras.optimizers.Adam(learning_rate=0.001), loss='binary_crossentropy', metrics=['accuracy'])\n",
    "\n",
    "    model.fit(X_train_fold, y_train_fold, epochs=20, batch_size=16, verbose=0)\n",
    "\n",
    "    y_pred_prob = model.predict(X_val_fold).flatten()\n",
    "    y_pred_class = (y_pred_prob > 0.5).astype(int)\n",
    "\n",
    "    acc = accuracy_score(y_val_fold, y_pred_class)\n",
    "    auc = roc_auc_score(y_val_fold, y_pred_prob)\n",
    "\n",
    "    cnn_accuracy.append(acc)\n",
    "    cnn_auc_score.append(auc)\n",
    "\n",
    "    print(f\"Accuracy: {acc:.4f}, AUC: {auc:.4f}\")"
   ]
  },
  {
   "cell_type": "code",
   "execution_count": 92,
   "id": "81ba1fca-cd0d-4e87-8409-63ea0d6a35fa",
   "metadata": {},
   "outputs": [],
   "source": [
    "# K-Fold Cross-Validation for Logistic Regression\n",
    "logreg_accuracies = []\n",
    "logreg_auc_scores = []"
   ]
  },
  {
   "cell_type": "code",
   "execution_count": 93,
   "id": "f1251251-e13e-4515-a0de-94075b97c6a9",
   "metadata": {},
   "outputs": [
    {
     "name": "stdout",
     "output_type": "stream",
     "text": [
      "\n",
      "Fold 1:\n",
      "Accuracy: 0.9500, AUC: 1.0000\n",
      "\n",
      "Fold 2:\n",
      "Accuracy: 0.9000, AUC: 0.9970\n",
      "\n",
      "Fold 3:\n",
      "Accuracy: 0.9250, AUC: 0.9749\n",
      "\n",
      "Fold 4:\n",
      "Accuracy: 0.9500, AUC: 1.0000\n",
      "\n",
      "Fold 5:\n",
      "Accuracy: 0.9500, AUC: 1.0000\n"
     ]
    }
   ],
   "source": [
    "for fold, (train_idx, val_idx) in enumerate(kf.split(X_flat)):\n",
    "    print(f\"\\nFold {fold+1}:\")\n",
    "\n",
    "    X_train_lr, X_val_lr = X_flat[train_idx], X_flat[val_idx]\n",
    "    y_train_lr, y_val_lr = y[train_idx], y[val_idx]\n",
    "\n",
    "    clf = LogisticRegression(max_iter=1000)\n",
    "    clf.fit(X_train_lr, y_train_lr)\n",
    "\n",
    "    y_pred_prob = clf.predict_proba(X_val_lr)[:, 1]\n",
    "    y_pred_class = (y_pred_prob > 0.5).astype(int)\n",
    "\n",
    "    acc = accuracy_score(y_val_lr, y_pred_class)\n",
    "    auc = roc_auc_score(y_val_lr, y_pred_prob)\n",
    "\n",
    "    logreg_accuracies.append(acc)\n",
    "    logreg_auc_scores.append(auc)\n",
    "\n",
    "    print(f\"Accuracy: {acc:.4f}, AUC: {auc:.4f}\")"
   ]
  },
  {
   "cell_type": "code",
   "execution_count": 94,
   "id": "7e12f609-659b-4e5e-bf7d-18c0b0239198",
   "metadata": {},
   "outputs": [
    {
     "name": "stdout",
     "output_type": "stream",
     "text": [
      "\n",
      "Average Performance (5-Fold):\n",
      "CNN Accuracy:  0.7550, AUC: 0.5534\n",
      "LR  Accuracy:  0.9350, AUC: 0.9944\n"
     ]
    }
   ],
   "source": [
    "print(\"\\nAverage Performance (5-Fold):\")\n",
    "print(f\"CNN Accuracy:  {np.mean(cnn_accuracy):.4f}, AUC: {np.mean(cnn_auc_score):.4f}\")\n",
    "print(f\"LR  Accuracy:  {np.mean(logreg_accuracies):.4f}, AUC: {np.mean(logreg_auc_scores):.4f}\")"
   ]
  },
  {
   "cell_type": "code",
   "execution_count": 99,
   "id": "50516ee1-f68e-4bef-877a-f03d3da914bd",
   "metadata": {},
   "outputs": [
    {
     "name": "stdout",
     "output_type": "stream",
     "text": [
      "Best Logistic Regression Params: {'C': 10, 'penalty': 'l2', 'solver': 'lbfgs'}\n",
      "Best Accuracy: 0.97\n"
     ]
    }
   ],
   "source": [
    "from sklearn.model_selection import GridSearchCV\n",
    "# GridSearchCV for Logistic Regression\n",
    "param_grid = {\n",
    "    'C': [0.01, 0.1, 1, 10],\n",
    "    'penalty': ['l2'],     # L2 penalty\n",
    "    'solver': ['lbfgs', 'liblinear']}\n",
    "\n",
    "grid = GridSearchCV(LogisticRegression(max_iter=1000), param_grid, cv=5, scoring='accuracy')\n",
    "grid.fit(X_flat, y)\n",
    "\n",
    "print(f\"Best Logistic Regression Params: {grid.best_params_}\")\n",
    "print(f\"Best Accuracy: {grid.best_score_}\")"
   ]
  },
  {
   "cell_type": "code",
   "execution_count": 113,
   "id": "17cc972c-e7a7-4e81-a982-b1bfc0508980",
   "metadata": {},
   "outputs": [],
   "source": [
    "from scikeras.wrappers import KerasClassifier\n",
    "# GridSearchCV for CNN \n",
    "# Define parameter grid\n",
    "kernel_sizes = [2, 3]\n",
    "activations = ['relu', 'tanh']\n",
    "learning_rates = [0.001, 0.0005]\n",
    "\n",
    "# Train-Test split\n",
    "X_train_gs, X_val_gs, y_train_gs, y_val_gs = train_test_split(X_img, y, test_size=0.2, random_state=20)"
   ]
  },
  {
   "cell_type": "code",
   "execution_count": 114,
   "id": "6f1bdda0-b6f7-451c-aa66-4d48abee4b9f",
   "metadata": {},
   "outputs": [
    {
     "name": "stdout",
     "output_type": "stream",
     "text": [
      "Training with kernel=2, activation=relu, lr=0.001\n",
      "\u001b[1m2/2\u001b[0m \u001b[32m━━━━━━━━━━━━━━━━━━━━\u001b[0m\u001b[37m\u001b[0m \u001b[1m0s\u001b[0m 41ms/step\n",
      "Accuracy: 0.7750\n",
      "Training with kernel=2, activation=relu, lr=0.0005\n",
      "\u001b[1m2/2\u001b[0m \u001b[32m━━━━━━━━━━━━━━━━━━━━\u001b[0m\u001b[37m\u001b[0m \u001b[1m0s\u001b[0m 38ms/step\n",
      "Accuracy: 0.7750\n",
      "Training with kernel=2, activation=tanh, lr=0.001\n",
      "\u001b[1m2/2\u001b[0m \u001b[32m━━━━━━━━━━━━━━━━━━━━\u001b[0m\u001b[37m\u001b[0m \u001b[1m0s\u001b[0m 45ms/step\n",
      "Accuracy: 0.7750\n",
      "Training with kernel=2, activation=tanh, lr=0.0005\n",
      "\u001b[1m2/2\u001b[0m \u001b[32m━━━━━━━━━━━━━━━━━━━━\u001b[0m\u001b[37m\u001b[0m \u001b[1m0s\u001b[0m 37ms/step\n",
      "Accuracy: 0.7750\n",
      "Training with kernel=3, activation=relu, lr=0.001\n",
      "\u001b[1m2/2\u001b[0m \u001b[32m━━━━━━━━━━━━━━━━━━━━\u001b[0m\u001b[37m\u001b[0m \u001b[1m0s\u001b[0m 33ms/step\n",
      "Accuracy: 0.7750\n",
      "Training with kernel=3, activation=relu, lr=0.0005\n",
      "\u001b[1m2/2\u001b[0m \u001b[32m━━━━━━━━━━━━━━━━━━━━\u001b[0m\u001b[37m\u001b[0m \u001b[1m0s\u001b[0m 53ms/step\n",
      "Accuracy: 0.7750\n",
      "Training with kernel=3, activation=tanh, lr=0.001\n",
      "\u001b[1m2/2\u001b[0m \u001b[32m━━━━━━━━━━━━━━━━━━━━\u001b[0m\u001b[37m\u001b[0m \u001b[1m0s\u001b[0m 34ms/step\n",
      "Accuracy: 0.8000\n",
      "Training with kernel=3, activation=tanh, lr=0.0005\n",
      "\u001b[1m2/2\u001b[0m \u001b[32m━━━━━━━━━━━━━━━━━━━━\u001b[0m\u001b[37m\u001b[0m \u001b[1m0s\u001b[0m 34ms/step\n",
      "Accuracy: 0.7750\n"
     ]
    }
   ],
   "source": [
    "# Track best params\n",
    "best_score = 0\n",
    "best_config = None\n",
    "best_model = None\n",
    "\n",
    "for ks in kernel_sizes:\n",
    "    for act in activations:\n",
    "        for lr in learning_rates:\n",
    "            print(f\"Training with kernel={ks}, activation={act}, lr={lr}\")\n",
    "\n",
    "            model = keras.Sequential([\n",
    "                keras.Input(shape=(4, 4, 1)),\n",
    "                keras.layers.Conv2D(32, (ks, ks), activation=act),\n",
    "                keras.layers.MaxPooling2D((2, 2)),\n",
    "                keras.layers.Flatten(),\n",
    "                keras.layers.Dense(64, activation=act),\n",
    "                keras.layers.Dropout(0.3),\n",
    "                keras.layers.Dense(1, activation='sigmoid') ])\n",
    "\n",
    "            model.compile(optimizer=keras.optimizers.Adam(learning_rate=lr), loss='binary_crossentropy', metrics=['accuracy'])\n",
    "\n",
    "            model.fit(X_train_gs, y_train_gs, epochs=20, batch_size=16, verbose=0)\n",
    "            y_pred = (model.predict(X_val_gs) > 0.5).astype(int)\n",
    "            acc = accuracy_score(y_val_gs, y_pred)\n",
    "\n",
    "            print(f\"Accuracy: {acc:.4f}\")\n",
    "\n",
    "            if acc > best_score:\n",
    "                best_score = acc\n",
    "                best_model = model\n",
    "                best_config = {'kernel_size': ks, 'activation': act, 'learning_rate': lr}"
   ]
  },
  {
   "cell_type": "code",
   "execution_count": 125,
   "id": "8381dae7-971b-4d0c-95c0-7a7911e6fa4e",
   "metadata": {},
   "outputs": [
    {
     "data": {
      "image/png": "[encoded data removed]",
      "text/plain": [
       "<Figure size 640x480 with 2 Axes>"
      ]
     },
     "metadata": {},
     "output_type": "display_data"
    },
    {
     "data": {
      "image/png": "[encoded data removed]",
      "text/plain": [
       "<Figure size 640x480 with 2 Axes>"
      ]
     },
     "metadata": {},
     "output_type": "display_data"
    }
   ],
   "source": [
    "# Visualizations of Model Evaluation\n",
    "\n",
    "# CNN Confusion Matrix\n",
    "ConfusionMatrixDisplay.from_predictions(y_test, y_pred_cnn, display_labels=[\"Fast\", \"Delayed\"], cmap='Blues')\n",
    "plt.title(\"CNN Confusion Matrix\")\n",
    "plt.grid(False)\n",
    "plt.show()\n",
    "\n",
    "# Logistic Regression Confusion Matrix\n",
    "ConfusionMatrixDisplay.from_predictions(y_test_lr, y_pred_lr, display_labels=[\"Fast\", \"Delayed\"], cmap='Greens')\n",
    "plt.title(\"Logistic Regression Confusion Matrix\")\n",
    "plt.grid(False)\n",
    "plt.show()"
   ]
  },
  {
   "cell_type": "code",
   "execution_count": 126,
   "id": "e8e1c03f-bd53-4828-a0bf-6f1406a80076",
   "metadata": {},
   "outputs": [],
   "source": [
    "# ROC Curve - CNN\n",
    "fpr_cnn, tpr_cnn, _ = roc_curve(y_test, y_pred_probs)\n",
    "auc_cnn = roc_auc_score(y_test, y_pred_probs)\n",
    "\n",
    "# ROC Curve - LR\n",
    "y_proba_lr = logreg.predict_proba(X_test_lr)[:, 1]\n",
    "fpr_lr, tpr_lr, _ = roc_curve(y_test_lr, y_proba_lr)\n",
    "auc_lr = roc_auc_score(y_test_lr, y_proba_lr)"
   ]
  },
  {
   "cell_type": "code",
   "execution_count": 127,
   "id": "4b600ecc-4fa3-49fa-8ce8-6a2bbbd3b2c1",
   "metadata": {},
   "outputs": [
    {
     "data": {
      "image/png": "[encoded data removed]",
      "text/plain": [
       "<Figure size 800x600 with 1 Axes>"
      ]
     },
     "metadata": {},
     "output_type": "display_data"
    }
   ],
   "source": [
    "# Plot ROC Curves\n",
    "plt.figure(figsize=(8,6))\n",
    "plt.plot(fpr_cnn, tpr_cnn, label=f'CNN (AUC = {auc_cnn:.2f})')\n",
    "plt.plot(fpr_lr, tpr_lr, label=f'Logistic Regression (AUC = {auc_lr:.2f})')\n",
    "plt.plot([0, 1], [0, 1], 'k--')\n",
    "plt.xlabel(\"False Positive Rate\")\n",
    "plt.ylabel(\"True Positive Rate\")\n",
    "plt.title(\"ROC Curve Comparison\")\n",
    "plt.legend(loc=\"lower right\")\n",
    "plt.grid(True)\n",
    "plt.show()"
   ]
  },
  {
   "cell_type": "code",
   "execution_count": 137,
   "id": "bbbc57f3-6001-4e0e-ad82-2cbdaa0cd8d3",
   "metadata": {},
   "outputs": [],
   "source": [
    "df_accuracy = pd.DataFrame({\n",
    "    \"Fold\": list(range(1, 6)) * 2,\n",
    "    \"Model\": [\"CNN\"] * 5 + [\"Logistic Regression\"] * 5,\n",
    "    \"Accuracy\": cnn_accuracy + logreg_accuracies })"
   ]
  },
  {
   "cell_type": "code",
   "execution_count": 138,
   "id": "7d9286ed-563d-4cd7-b09a-c418962d8232",
   "metadata": {},
   "outputs": [
    {
     "data": {
      "image/png": "[encoded data removed]",
      "text/plain": [
       "<Figure size 1200x800 with 1 Axes>"
      ]
     },
     "metadata": {},
     "output_type": "display_data"
    }
   ],
   "source": [
    "plt.figure(figsize=(12, 8))\n",
    "ax = sns.barplot(data=df_accuracy, x=\"Fold\", y=\"Accuracy\", hue=\"Model\")\n",
    "\n",
    "# Add values on bars\n",
    "for container in ax.containers:\n",
    "    ax.bar_label(container, fmt=\"%.2f\", label_type=\"edge\", fontsize=10)\n",
    "\n",
    "plt.title(\"K-Fold Accuracy Comparison: CNN vs Logistic Regression\")\n",
    "plt.ylim(0.0, 1.0)\n",
    "plt.grid(True)\n",
    "plt.show()"
   ]
  },
  {
   "cell_type": "markdown",
   "id": "e932fe8d-3d0c-489f-97ae-a461f3d432b7",
   "metadata": {},
   "source": [
    "## Key Insights\n",
    "\n",
    "#### 1. CNN Is Not Ideal for Tabular Data\n",
    "- The CNN model, adapted for 4×4×1 “image-like” input, performed **moderately well** (Accuracy ~76–80%, AUC ~0.78).\n",
    "- Despite valid implementation, CNN struggled with structured data due to limited spatial patterns.\n",
    "\n",
    "#### 2. Logistic Regression Was More Effective\n",
    "- Logistic Regression achieved **>90% accuracy** and **AUC > 0.92**, outperforming CNN on all metrics.\n",
    "- Simpler architecture worked better for normalized, structured input.\n",
    "\n",
    "#### 3. Strong Feature Engineering Improved All Models\n",
    "- Key features:\n",
    "  - `Geo_Distance` using the **Haversine formula**\n",
    "  - `Rush_Hour` derived from `Order_Time`\n",
    "- Normalization and label encoding ensured consistency and performance.\n",
    "\n",
    "#### 4. Comprehensive Evaluation Strengthened Results\n",
    "- Used:\n",
    "  - Accuracy, Precision, Recall, F1-score\n",
    "  - Confusion Matrix and ROC Curve\n",
    "  - 5-Fold Cross-Validation\n",
    "- Visuals like bar plots and ROC curves helped communicate model performance clearly.\n",
    "\n",
    "#### 5. Hyperparameter Tuning Enhanced Model Robustness\n",
    "- CNN tuning was handled via manual iteration (due to Keras tuning constraints).\n",
    "- Logistic Regression used `GridSearchCV` to identify optimal regularization.\n",
    "---\n",
    "## Conclusion \n",
    "The goal is to predict whether a food delivery will be \"Fast\" or \"Delayed\" based on various features like customer location, restaurant location, weather, traffic conditions, etc. The dataset will be used to explore CNN and evaluation/validation techniques.\n",
    "\n",
    "After preprocessing—including label encoding, normalization, and feature engineering—the dataset was well-prepared for modeling.\n",
    "Key engineered features like `Geo_Distance` (via the Haversine formula) and binary `Rush_Hour` indicator enriched the dataset and improved its predictive value. Two modeling approaches tested: a Convolutional Neural Network (CNN), adapted for 4×4 image-like inputs, and a traditional Logistic Regression model. While the CNN performed reasonably well (accuracy ~76–80%, AUC ~0.78), it was consistently outperformed by Logistic Regression, which achieved over 90% accuracy and an AUC near 0.92. Evaluation included 5-Fold Cross-Validation, confusion matrices, and ROC curve analysis, all confirming the superior reliability of the logistic model for structured data. Hyperparameter tuning was successfully conducted—manually for CNN and via `GridSearchCV` for Logistic Regression. Visualizations supported interpretability, and the overall pipeline demonstrated robustness.\n",
    "In conclusion, traditional models like Logistic Regression are better suited for this kind of structured problem, especially when combined with strong feature engineering. Future improvements could include temporal features, real-time traffic/weather data, or extending to spatial inputs for more complex deep learning models."
   ]
  },
  {
   "cell_type": "code",
   "execution_count": null,
   "id": "ec9bbafe-d78c-4365-b17b-522de3081033",
   "metadata": {},
   "outputs": [],
   "source": []
  },
  {
   "cell_type": "code",
   "execution_count": null,
   "id": "42a34e82-11d3-4011-b87c-fdb9a3bb8284",
   "metadata": {},
   "outputs": [],
   "source": []
  },
  {
   "cell_type": "code",
   "execution_count": null,
   "id": "1c2d13e4-44e8-43dd-be12-7f4716a6afea",
   "metadata": {},
   "outputs": [],
   "source": []
  },
  {
   "cell_type": "code",
   "execution_count": null,
   "id": "a5e924c8-1664-4eff-a916-907a78c112d6",
   "metadata": {},
   "outputs": [],
   "source": []
  },
  {
   "cell_type": "code",
   "execution_count": null,
   "id": "95a66b22-fdc6-4abb-86bb-ca3eb220f8ad",
   "metadata": {},
   "outputs": [],
   "source": []
  },
  {
   "cell_type": "code",
   "execution_count": null,
   "id": "03f861a0-39ab-45a2-a6ed-38528597512c",
   "metadata": {},
   "outputs": [],
   "source": []
  }
 ],
 "metadata": {
  "kernelspec": {
   "display_name": "Python 3 (ipykernel)",
   "language": "python",
   "name": "python3"
  },
  "language_info": {
   "codemirror_mode": {
    "name": "ipython",
    "version": 3
   },
   "file_extension": ".py",
   "mimetype": "text/x-python",
   "name": "python",
   "nbconvert_exporter": "python",
   "pygments_lexer": "ipython3",
   "version": "3.12.7"
  }
 },
 "nbformat": 4,
 "nbformat_minor": 5
}
