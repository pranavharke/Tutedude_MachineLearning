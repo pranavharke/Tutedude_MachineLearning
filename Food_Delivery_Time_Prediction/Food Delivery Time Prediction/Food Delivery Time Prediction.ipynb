{
 "cells": [
  {
   "cell_type": "code",
   "execution_count": 1,
   "id": "456a0e04-a612-400c-9330-1e2d974e6d81",
   "metadata": {},
   "outputs": [],
   "source": [
    "# Importing libraries\n",
    "import pandas as pd\n",
    "import numpy as np"
   ]
  },
  {
   "cell_type": "markdown",
   "id": "63aa1a63-5e3f-4ceb-bbd7-61dc6d9ef957",
   "metadata": {},
   "source": [
    "## Phase 1: Data Collection and Exploratory Data Analysis (EDA)\n",
    "### Step 1 - Data Import and Preprocessing"
   ]
  },
  {
   "cell_type": "code",
   "execution_count": 2,
   "id": "438d8400-4ae9-4ae5-89b6-b24abcc1cbb4",
   "metadata": {},
   "outputs": [
    {
     "data": {
      "text/html": [
       "<div>\n",
       "<style scoped>\n",
       "    .dataframe tbody tr th:only-of-type {\n",
       "        vertical-align: middle;\n",
       "    }\n",
       "\n",
       "    .dataframe tbody tr th {\n",
       "        vertical-align: top;\n",
       "    }\n",
       "\n",
       "    .dataframe thead th {\n",
       "        text-align: right;\n",
       "    }\n",
       "</style>\n",
       "<table border=\"1\" class=\"dataframe\">\n",
       "  <thead>\n",
       "    <tr style=\"text-align: right;\">\n",
       "      <th></th>\n",
       "      <th>Order_ID</th>\n",
       "      <th>Customer_Location</th>\n",
       "      <th>Restaurant_Location</th>\n",
       "      <th>Distance</th>\n",
       "      <th>Weather_Conditions</th>\n",
       "      <th>Traffic_Conditions</th>\n",
       "      <th>Delivery_Person_Experience</th>\n",
       "      <th>Order_Priority</th>\n",
       "      <th>Order_Time</th>\n",
       "      <th>Vehicle_Type</th>\n",
       "      <th>Restaurant_Rating</th>\n",
       "      <th>Customer_Rating</th>\n",
       "      <th>Delivery_Time</th>\n",
       "      <th>Order_Cost</th>\n",
       "      <th>Tip_Amount</th>\n",
       "    </tr>\n",
       "  </thead>\n",
       "  <tbody>\n",
       "    <tr>\n",
       "      <th>0</th>\n",
       "      <td>ORD0001</td>\n",
       "      <td>(17.030479, 79.743077)</td>\n",
       "      <td>(12.358515, 85.100083)</td>\n",
       "      <td>1.57</td>\n",
       "      <td>Rainy</td>\n",
       "      <td>Medium</td>\n",
       "      <td>4</td>\n",
       "      <td>Medium</td>\n",
       "      <td>Afternoon</td>\n",
       "      <td>Car</td>\n",
       "      <td>4.1</td>\n",
       "      <td>3.0</td>\n",
       "      <td>26.22</td>\n",
       "      <td>1321.10</td>\n",
       "      <td>81.54</td>\n",
       "    </tr>\n",
       "    <tr>\n",
       "      <th>1</th>\n",
       "      <td>ORD0002</td>\n",
       "      <td>(15.398319, 86.639122)</td>\n",
       "      <td>(14.174874, 77.025606)</td>\n",
       "      <td>21.32</td>\n",
       "      <td>Cloudy</td>\n",
       "      <td>Medium</td>\n",
       "      <td>8</td>\n",
       "      <td>Low</td>\n",
       "      <td>Night</td>\n",
       "      <td>Car</td>\n",
       "      <td>4.5</td>\n",
       "      <td>4.2</td>\n",
       "      <td>62.61</td>\n",
       "      <td>152.21</td>\n",
       "      <td>29.02</td>\n",
       "    </tr>\n",
       "    <tr>\n",
       "      <th>2</th>\n",
       "      <td>ORD0003</td>\n",
       "      <td>(15.687342, 83.888808)</td>\n",
       "      <td>(19.594748, 82.048482)</td>\n",
       "      <td>6.95</td>\n",
       "      <td>Snowy</td>\n",
       "      <td>Medium</td>\n",
       "      <td>9</td>\n",
       "      <td>High</td>\n",
       "      <td>Night</td>\n",
       "      <td>Bike</td>\n",
       "      <td>3.3</td>\n",
       "      <td>3.4</td>\n",
       "      <td>48.43</td>\n",
       "      <td>1644.38</td>\n",
       "      <td>64.17</td>\n",
       "    </tr>\n",
       "    <tr>\n",
       "      <th>3</th>\n",
       "      <td>ORD0004</td>\n",
       "      <td>(20.415599, 78.046984)</td>\n",
       "      <td>(16.915906, 78.278698)</td>\n",
       "      <td>13.79</td>\n",
       "      <td>Cloudy</td>\n",
       "      <td>Low</td>\n",
       "      <td>2</td>\n",
       "      <td>Medium</td>\n",
       "      <td>Evening</td>\n",
       "      <td>Bike</td>\n",
       "      <td>3.2</td>\n",
       "      <td>3.7</td>\n",
       "      <td>111.63</td>\n",
       "      <td>541.25</td>\n",
       "      <td>79.23</td>\n",
       "    </tr>\n",
       "    <tr>\n",
       "      <th>4</th>\n",
       "      <td>ORD0005</td>\n",
       "      <td>(14.786904, 78.706532)</td>\n",
       "      <td>(15.206038, 86.203182)</td>\n",
       "      <td>6.72</td>\n",
       "      <td>Rainy</td>\n",
       "      <td>High</td>\n",
       "      <td>6</td>\n",
       "      <td>Low</td>\n",
       "      <td>Night</td>\n",
       "      <td>Bike</td>\n",
       "      <td>3.5</td>\n",
       "      <td>2.8</td>\n",
       "      <td>32.38</td>\n",
       "      <td>619.81</td>\n",
       "      <td>2.34</td>\n",
       "    </tr>\n",
       "  </tbody>\n",
       "</table>\n",
       "</div>"
      ],
      "text/plain": [
       "  Order_ID       Customer_Location     Restaurant_Location  Distance  \\\n",
       "0  ORD0001  (17.030479, 79.743077)  (12.358515, 85.100083)      1.57   \n",
       "1  ORD0002  (15.398319, 86.639122)  (14.174874, 77.025606)     21.32   \n",
       "2  ORD0003  (15.687342, 83.888808)  (19.594748, 82.048482)      6.95   \n",
       "3  ORD0004  (20.415599, 78.046984)  (16.915906, 78.278698)     13.79   \n",
       "4  ORD0005  (14.786904, 78.706532)  (15.206038, 86.203182)      6.72   \n",
       "\n",
       "  Weather_Conditions Traffic_Conditions  Delivery_Person_Experience  \\\n",
       "0              Rainy             Medium                           4   \n",
       "1             Cloudy             Medium                           8   \n",
       "2              Snowy             Medium                           9   \n",
       "3             Cloudy                Low                           2   \n",
       "4              Rainy               High                           6   \n",
       "\n",
       "  Order_Priority Order_Time Vehicle_Type  Restaurant_Rating  Customer_Rating  \\\n",
       "0         Medium  Afternoon          Car                4.1              3.0   \n",
       "1            Low      Night          Car                4.5              4.2   \n",
       "2           High      Night         Bike                3.3              3.4   \n",
       "3         Medium    Evening         Bike                3.2              3.7   \n",
       "4            Low      Night         Bike                3.5              2.8   \n",
       "\n",
       "   Delivery_Time  Order_Cost  Tip_Amount  \n",
       "0          26.22     1321.10       81.54  \n",
       "1          62.61      152.21       29.02  \n",
       "2          48.43     1644.38       64.17  \n",
       "3         111.63      541.25       79.23  \n",
       "4          32.38      619.81        2.34  "
      ]
     },
     "execution_count": 2,
     "metadata": {},
     "output_type": "execute_result"
    }
   ],
   "source": [
    "# Loading dataset\n",
    "df = pd.read_csv(\"Food_Delivery_Time_Prediction.csv\")\n",
    "df.head()"
   ]
  },
  {
   "cell_type": "code",
   "execution_count": 3,
   "id": "6e3fb8f0-224e-483c-a731-e640438ce6bb",
   "metadata": {},
   "outputs": [
    {
     "name": "stdout",
     "output_type": "stream",
     "text": [
      "<class 'pandas.core.frame.DataFrame'>\n",
      "RangeIndex: 200 entries, 0 to 199\n",
      "Data columns (total 15 columns):\n",
      " #   Column                      Non-Null Count  Dtype  \n",
      "---  ------                      --------------  -----  \n",
      " 0   Order_ID                    200 non-null    object \n",
      " 1   Customer_Location           200 non-null    object \n",
      " 2   Restaurant_Location         200 non-null    object \n",
      " 3   Distance                    200 non-null    float64\n",
      " 4   Weather_Conditions          200 non-null    object \n",
      " 5   Traffic_Conditions          200 non-null    object \n",
      " 6   Delivery_Person_Experience  200 non-null    int64  \n",
      " 7   Order_Priority              200 non-null    object \n",
      " 8   Order_Time                  200 non-null    object \n",
      " 9   Vehicle_Type                200 non-null    object \n",
      " 10  Restaurant_Rating           200 non-null    float64\n",
      " 11  Customer_Rating             200 non-null    float64\n",
      " 12  Delivery_Time               200 non-null    float64\n",
      " 13  Order_Cost                  200 non-null    float64\n",
      " 14  Tip_Amount                  200 non-null    float64\n",
      "dtypes: float64(6), int64(1), object(8)\n",
      "memory usage: 23.6+ KB\n"
     ]
    }
   ],
   "source": [
    "df.info()"
   ]
  },
  {
   "cell_type": "code",
   "execution_count": 4,
   "id": "ab9eee3a-0a5c-45ac-aecd-419214c88032",
   "metadata": {},
   "outputs": [
    {
     "data": {
      "text/plain": [
       "Order_ID                      0\n",
       "Customer_Location             0\n",
       "Restaurant_Location           0\n",
       "Distance                      0\n",
       "Weather_Conditions            0\n",
       "Traffic_Conditions            0\n",
       "Delivery_Person_Experience    0\n",
       "Order_Priority                0\n",
       "Order_Time                    0\n",
       "Vehicle_Type                  0\n",
       "Restaurant_Rating             0\n",
       "Customer_Rating               0\n",
       "Delivery_Time                 0\n",
       "Order_Cost                    0\n",
       "Tip_Amount                    0\n",
       "dtype: int64"
      ]
     },
     "execution_count": 4,
     "metadata": {},
     "output_type": "execute_result"
    }
   ],
   "source": [
    "# Handling missing values\n",
    "df.isna().sum()"
   ]
  },
  {
   "cell_type": "code",
   "execution_count": 5,
   "id": "9be771f8-99c2-4740-affc-c8398b8bb44a",
   "metadata": {},
   "outputs": [
    {
     "data": {
      "text/plain": [
       "Order_ID                       object\n",
       "Customer_Location              object\n",
       "Restaurant_Location            object\n",
       "Distance                      float64\n",
       "Weather_Conditions             object\n",
       "Traffic_Conditions             object\n",
       "Delivery_Person_Experience      int64\n",
       "Order_Priority                 object\n",
       "Order_Time                     object\n",
       "Vehicle_Type                   object\n",
       "Restaurant_Rating             float64\n",
       "Customer_Rating               float64\n",
       "Delivery_Time                 float64\n",
       "Order_Cost                    float64\n",
       "Tip_Amount                    float64\n",
       "dtype: object"
      ]
     },
     "execution_count": 5,
     "metadata": {},
     "output_type": "execute_result"
    }
   ],
   "source": [
    "df.dtypes"
   ]
  },
  {
   "cell_type": "code",
   "execution_count": 6,
   "id": "99703c59-f4f4-40ae-9e34-ab40e886a6d1",
   "metadata": {},
   "outputs": [
    {
     "data": {
      "text/html": [
       "<div>\n",
       "<style scoped>\n",
       "    .dataframe tbody tr th:only-of-type {\n",
       "        vertical-align: middle;\n",
       "    }\n",
       "\n",
       "    .dataframe tbody tr th {\n",
       "        vertical-align: top;\n",
       "    }\n",
       "\n",
       "    .dataframe thead th {\n",
       "        text-align: right;\n",
       "    }\n",
       "</style>\n",
       "<table border=\"1\" class=\"dataframe\">\n",
       "  <thead>\n",
       "    <tr style=\"text-align: right;\">\n",
       "      <th></th>\n",
       "      <th>Order_ID</th>\n",
       "      <th>Customer_Location</th>\n",
       "      <th>Restaurant_Location</th>\n",
       "      <th>Distance</th>\n",
       "      <th>Delivery_Person_Experience</th>\n",
       "      <th>Order_Priority</th>\n",
       "      <th>Order_Time</th>\n",
       "      <th>Restaurant_Rating</th>\n",
       "      <th>Customer_Rating</th>\n",
       "      <th>Delivery_Time</th>\n",
       "      <th>...</th>\n",
       "      <th>Weather_Conditions_Cloudy</th>\n",
       "      <th>Weather_Conditions_Rainy</th>\n",
       "      <th>Weather_Conditions_Snowy</th>\n",
       "      <th>Weather_Conditions_Sunny</th>\n",
       "      <th>Traffic_Conditions_High</th>\n",
       "      <th>Traffic_Conditions_Low</th>\n",
       "      <th>Traffic_Conditions_Medium</th>\n",
       "      <th>Vehicle_Type_Bicycle</th>\n",
       "      <th>Vehicle_Type_Bike</th>\n",
       "      <th>Vehicle_Type_Car</th>\n",
       "    </tr>\n",
       "  </thead>\n",
       "  <tbody>\n",
       "    <tr>\n",
       "      <th>0</th>\n",
       "      <td>ORD0001</td>\n",
       "      <td>(17.030479, 79.743077)</td>\n",
       "      <td>(12.358515, 85.100083)</td>\n",
       "      <td>1.57</td>\n",
       "      <td>4</td>\n",
       "      <td>Medium</td>\n",
       "      <td>Afternoon</td>\n",
       "      <td>4.1</td>\n",
       "      <td>3.0</td>\n",
       "      <td>26.22</td>\n",
       "      <td>...</td>\n",
       "      <td>False</td>\n",
       "      <td>True</td>\n",
       "      <td>False</td>\n",
       "      <td>False</td>\n",
       "      <td>False</td>\n",
       "      <td>False</td>\n",
       "      <td>True</td>\n",
       "      <td>False</td>\n",
       "      <td>False</td>\n",
       "      <td>True</td>\n",
       "    </tr>\n",
       "    <tr>\n",
       "      <th>1</th>\n",
       "      <td>ORD0002</td>\n",
       "      <td>(15.398319, 86.639122)</td>\n",
       "      <td>(14.174874, 77.025606)</td>\n",
       "      <td>21.32</td>\n",
       "      <td>8</td>\n",
       "      <td>Low</td>\n",
       "      <td>Night</td>\n",
       "      <td>4.5</td>\n",
       "      <td>4.2</td>\n",
       "      <td>62.61</td>\n",
       "      <td>...</td>\n",
       "      <td>True</td>\n",
       "      <td>False</td>\n",
       "      <td>False</td>\n",
       "      <td>False</td>\n",
       "      <td>False</td>\n",
       "      <td>False</td>\n",
       "      <td>True</td>\n",
       "      <td>False</td>\n",
       "      <td>False</td>\n",
       "      <td>True</td>\n",
       "    </tr>\n",
       "    <tr>\n",
       "      <th>2</th>\n",
       "      <td>ORD0003</td>\n",
       "      <td>(15.687342, 83.888808)</td>\n",
       "      <td>(19.594748, 82.048482)</td>\n",
       "      <td>6.95</td>\n",
       "      <td>9</td>\n",
       "      <td>High</td>\n",
       "      <td>Night</td>\n",
       "      <td>3.3</td>\n",
       "      <td>3.4</td>\n",
       "      <td>48.43</td>\n",
       "      <td>...</td>\n",
       "      <td>False</td>\n",
       "      <td>False</td>\n",
       "      <td>True</td>\n",
       "      <td>False</td>\n",
       "      <td>False</td>\n",
       "      <td>False</td>\n",
       "      <td>True</td>\n",
       "      <td>False</td>\n",
       "      <td>True</td>\n",
       "      <td>False</td>\n",
       "    </tr>\n",
       "    <tr>\n",
       "      <th>3</th>\n",
       "      <td>ORD0004</td>\n",
       "      <td>(20.415599, 78.046984)</td>\n",
       "      <td>(16.915906, 78.278698)</td>\n",
       "      <td>13.79</td>\n",
       "      <td>2</td>\n",
       "      <td>Medium</td>\n",
       "      <td>Evening</td>\n",
       "      <td>3.2</td>\n",
       "      <td>3.7</td>\n",
       "      <td>111.63</td>\n",
       "      <td>...</td>\n",
       "      <td>True</td>\n",
       "      <td>False</td>\n",
       "      <td>False</td>\n",
       "      <td>False</td>\n",
       "      <td>False</td>\n",
       "      <td>True</td>\n",
       "      <td>False</td>\n",
       "      <td>False</td>\n",
       "      <td>True</td>\n",
       "      <td>False</td>\n",
       "    </tr>\n",
       "    <tr>\n",
       "      <th>4</th>\n",
       "      <td>ORD0005</td>\n",
       "      <td>(14.786904, 78.706532)</td>\n",
       "      <td>(15.206038, 86.203182)</td>\n",
       "      <td>6.72</td>\n",
       "      <td>6</td>\n",
       "      <td>Low</td>\n",
       "      <td>Night</td>\n",
       "      <td>3.5</td>\n",
       "      <td>2.8</td>\n",
       "      <td>32.38</td>\n",
       "      <td>...</td>\n",
       "      <td>False</td>\n",
       "      <td>True</td>\n",
       "      <td>False</td>\n",
       "      <td>False</td>\n",
       "      <td>True</td>\n",
       "      <td>False</td>\n",
       "      <td>False</td>\n",
       "      <td>False</td>\n",
       "      <td>True</td>\n",
       "      <td>False</td>\n",
       "    </tr>\n",
       "  </tbody>\n",
       "</table>\n",
       "<p>5 rows × 22 columns</p>\n",
       "</div>"
      ],
      "text/plain": [
       "  Order_ID       Customer_Location     Restaurant_Location  Distance  \\\n",
       "0  ORD0001  (17.030479, 79.743077)  (12.358515, 85.100083)      1.57   \n",
       "1  ORD0002  (15.398319, 86.639122)  (14.174874, 77.025606)     21.32   \n",
       "2  ORD0003  (15.687342, 83.888808)  (19.594748, 82.048482)      6.95   \n",
       "3  ORD0004  (20.415599, 78.046984)  (16.915906, 78.278698)     13.79   \n",
       "4  ORD0005  (14.786904, 78.706532)  (15.206038, 86.203182)      6.72   \n",
       "\n",
       "   Delivery_Person_Experience Order_Priority Order_Time  Restaurant_Rating  \\\n",
       "0                           4         Medium  Afternoon                4.1   \n",
       "1                           8            Low      Night                4.5   \n",
       "2                           9           High      Night                3.3   \n",
       "3                           2         Medium    Evening                3.2   \n",
       "4                           6            Low      Night                3.5   \n",
       "\n",
       "   Customer_Rating  Delivery_Time  ...  Weather_Conditions_Cloudy  \\\n",
       "0              3.0          26.22  ...                      False   \n",
       "1              4.2          62.61  ...                       True   \n",
       "2              3.4          48.43  ...                      False   \n",
       "3              3.7         111.63  ...                       True   \n",
       "4              2.8          32.38  ...                      False   \n",
       "\n",
       "   Weather_Conditions_Rainy  Weather_Conditions_Snowy  \\\n",
       "0                      True                     False   \n",
       "1                     False                     False   \n",
       "2                     False                      True   \n",
       "3                     False                     False   \n",
       "4                      True                     False   \n",
       "\n",
       "   Weather_Conditions_Sunny  Traffic_Conditions_High  Traffic_Conditions_Low  \\\n",
       "0                     False                    False                   False   \n",
       "1                     False                    False                   False   \n",
       "2                     False                    False                   False   \n",
       "3                     False                    False                    True   \n",
       "4                     False                     True                   False   \n",
       "\n",
       "   Traffic_Conditions_Medium  Vehicle_Type_Bicycle  Vehicle_Type_Bike  \\\n",
       "0                       True                 False              False   \n",
       "1                       True                 False              False   \n",
       "2                       True                 False               True   \n",
       "3                      False                 False               True   \n",
       "4                      False                 False               True   \n",
       "\n",
       "   Vehicle_Type_Car  \n",
       "0              True  \n",
       "1              True  \n",
       "2             False  \n",
       "3             False  \n",
       "4             False  \n",
       "\n",
       "[5 rows x 22 columns]"
      ]
     },
     "execution_count": 6,
     "metadata": {},
     "output_type": "execute_result"
    }
   ],
   "source": [
    "# Encoding Categorical Variables\n",
    "df = pd.get_dummies(df, columns=[\"Weather_Conditions\", \"Traffic_Conditions\", \"Vehicle_Type\"])\n",
    "df.head()"
   ]
  },
  {
   "cell_type": "code",
   "execution_count": 7,
   "id": "abf91790-fdd0-4657-98e2-3fd7f78aa8ef",
   "metadata": {},
   "outputs": [],
   "source": [
    "# Normalize/Standardize Numeric Columns\n",
    "from sklearn.preprocessing import StandardScaler"
   ]
  },
  {
   "cell_type": "code",
   "execution_count": 8,
   "id": "b613bcde-904b-4b82-8a5e-77d154a7912f",
   "metadata": {},
   "outputs": [],
   "source": [
    "columns = [\"Distance\", \"Delivery_Time\", \"Order_Cost\"]\n",
    "scaler = StandardScaler()\n",
    "df[columns] = scaler.fit_transform(df[columns])"
   ]
  },
  {
   "cell_type": "code",
   "execution_count": 9,
   "id": "75b18bda-4a9d-4efe-80fd-f5b4bf5c5ddb",
   "metadata": {},
   "outputs": [
    {
     "data": {
      "text/html": [
       "<div>\n",
       "<style scoped>\n",
       "    .dataframe tbody tr th:only-of-type {\n",
       "        vertical-align: middle;\n",
       "    }\n",
       "\n",
       "    .dataframe tbody tr th {\n",
       "        vertical-align: top;\n",
       "    }\n",
       "\n",
       "    .dataframe thead th {\n",
       "        text-align: right;\n",
       "    }\n",
       "</style>\n",
       "<table border=\"1\" class=\"dataframe\">\n",
       "  <thead>\n",
       "    <tr style=\"text-align: right;\">\n",
       "      <th></th>\n",
       "      <th>Order_ID</th>\n",
       "      <th>Customer_Location</th>\n",
       "      <th>Restaurant_Location</th>\n",
       "      <th>Distance</th>\n",
       "      <th>Delivery_Person_Experience</th>\n",
       "      <th>Order_Priority</th>\n",
       "      <th>Order_Time</th>\n",
       "      <th>Restaurant_Rating</th>\n",
       "      <th>Customer_Rating</th>\n",
       "      <th>Delivery_Time</th>\n",
       "      <th>...</th>\n",
       "      <th>Weather_Conditions_Cloudy</th>\n",
       "      <th>Weather_Conditions_Rainy</th>\n",
       "      <th>Weather_Conditions_Snowy</th>\n",
       "      <th>Weather_Conditions_Sunny</th>\n",
       "      <th>Traffic_Conditions_High</th>\n",
       "      <th>Traffic_Conditions_Low</th>\n",
       "      <th>Traffic_Conditions_Medium</th>\n",
       "      <th>Vehicle_Type_Bicycle</th>\n",
       "      <th>Vehicle_Type_Bike</th>\n",
       "      <th>Vehicle_Type_Car</th>\n",
       "    </tr>\n",
       "  </thead>\n",
       "  <tbody>\n",
       "    <tr>\n",
       "      <th>0</th>\n",
       "      <td>ORD0001</td>\n",
       "      <td>(17.030479, 79.743077)</td>\n",
       "      <td>(12.358515, 85.100083)</td>\n",
       "      <td>-1.454738</td>\n",
       "      <td>4</td>\n",
       "      <td>Medium</td>\n",
       "      <td>Afternoon</td>\n",
       "      <td>4.1</td>\n",
       "      <td>3.0</td>\n",
       "      <td>-1.487932</td>\n",
       "      <td>...</td>\n",
       "      <td>False</td>\n",
       "      <td>True</td>\n",
       "      <td>False</td>\n",
       "      <td>False</td>\n",
       "      <td>False</td>\n",
       "      <td>False</td>\n",
       "      <td>True</td>\n",
       "      <td>False</td>\n",
       "      <td>False</td>\n",
       "      <td>True</td>\n",
       "    </tr>\n",
       "    <tr>\n",
       "      <th>1</th>\n",
       "      <td>ORD0002</td>\n",
       "      <td>(15.398319, 86.639122)</td>\n",
       "      <td>(14.174874, 77.025606)</td>\n",
       "      <td>1.439192</td>\n",
       "      <td>8</td>\n",
       "      <td>Low</td>\n",
       "      <td>Night</td>\n",
       "      <td>4.5</td>\n",
       "      <td>4.2</td>\n",
       "      <td>-0.264987</td>\n",
       "      <td>...</td>\n",
       "      <td>True</td>\n",
       "      <td>False</td>\n",
       "      <td>False</td>\n",
       "      <td>False</td>\n",
       "      <td>False</td>\n",
       "      <td>False</td>\n",
       "      <td>True</td>\n",
       "      <td>False</td>\n",
       "      <td>False</td>\n",
       "      <td>True</td>\n",
       "    </tr>\n",
       "    <tr>\n",
       "      <th>2</th>\n",
       "      <td>ORD0003</td>\n",
       "      <td>(15.687342, 83.888808)</td>\n",
       "      <td>(19.594748, 82.048482)</td>\n",
       "      <td>-0.666417</td>\n",
       "      <td>9</td>\n",
       "      <td>High</td>\n",
       "      <td>Night</td>\n",
       "      <td>3.3</td>\n",
       "      <td>3.4</td>\n",
       "      <td>-0.741529</td>\n",
       "      <td>...</td>\n",
       "      <td>False</td>\n",
       "      <td>False</td>\n",
       "      <td>True</td>\n",
       "      <td>False</td>\n",
       "      <td>False</td>\n",
       "      <td>False</td>\n",
       "      <td>True</td>\n",
       "      <td>False</td>\n",
       "      <td>True</td>\n",
       "      <td>False</td>\n",
       "    </tr>\n",
       "    <tr>\n",
       "      <th>3</th>\n",
       "      <td>ORD0004</td>\n",
       "      <td>(20.415599, 78.046984)</td>\n",
       "      <td>(16.915906, 78.278698)</td>\n",
       "      <td>0.335835</td>\n",
       "      <td>2</td>\n",
       "      <td>Medium</td>\n",
       "      <td>Evening</td>\n",
       "      <td>3.2</td>\n",
       "      <td>3.7</td>\n",
       "      <td>1.382411</td>\n",
       "      <td>...</td>\n",
       "      <td>True</td>\n",
       "      <td>False</td>\n",
       "      <td>False</td>\n",
       "      <td>False</td>\n",
       "      <td>False</td>\n",
       "      <td>True</td>\n",
       "      <td>False</td>\n",
       "      <td>False</td>\n",
       "      <td>True</td>\n",
       "      <td>False</td>\n",
       "    </tr>\n",
       "    <tr>\n",
       "      <th>4</th>\n",
       "      <td>ORD0005</td>\n",
       "      <td>(14.786904, 78.706532)</td>\n",
       "      <td>(15.206038, 86.203182)</td>\n",
       "      <td>-0.700119</td>\n",
       "      <td>6</td>\n",
       "      <td>Low</td>\n",
       "      <td>Night</td>\n",
       "      <td>3.5</td>\n",
       "      <td>2.8</td>\n",
       "      <td>-1.280915</td>\n",
       "      <td>...</td>\n",
       "      <td>False</td>\n",
       "      <td>True</td>\n",
       "      <td>False</td>\n",
       "      <td>False</td>\n",
       "      <td>True</td>\n",
       "      <td>False</td>\n",
       "      <td>False</td>\n",
       "      <td>False</td>\n",
       "      <td>True</td>\n",
       "      <td>False</td>\n",
       "    </tr>\n",
       "  </tbody>\n",
       "</table>\n",
       "<p>5 rows × 22 columns</p>\n",
       "</div>"
      ],
      "text/plain": [
       "  Order_ID       Customer_Location     Restaurant_Location  Distance  \\\n",
       "0  ORD0001  (17.030479, 79.743077)  (12.358515, 85.100083) -1.454738   \n",
       "1  ORD0002  (15.398319, 86.639122)  (14.174874, 77.025606)  1.439192   \n",
       "2  ORD0003  (15.687342, 83.888808)  (19.594748, 82.048482) -0.666417   \n",
       "3  ORD0004  (20.415599, 78.046984)  (16.915906, 78.278698)  0.335835   \n",
       "4  ORD0005  (14.786904, 78.706532)  (15.206038, 86.203182) -0.700119   \n",
       "\n",
       "   Delivery_Person_Experience Order_Priority Order_Time  Restaurant_Rating  \\\n",
       "0                           4         Medium  Afternoon                4.1   \n",
       "1                           8            Low      Night                4.5   \n",
       "2                           9           High      Night                3.3   \n",
       "3                           2         Medium    Evening                3.2   \n",
       "4                           6            Low      Night                3.5   \n",
       "\n",
       "   Customer_Rating  Delivery_Time  ...  Weather_Conditions_Cloudy  \\\n",
       "0              3.0      -1.487932  ...                      False   \n",
       "1              4.2      -0.264987  ...                       True   \n",
       "2              3.4      -0.741529  ...                      False   \n",
       "3              3.7       1.382411  ...                       True   \n",
       "4              2.8      -1.280915  ...                      False   \n",
       "\n",
       "   Weather_Conditions_Rainy  Weather_Conditions_Snowy  \\\n",
       "0                      True                     False   \n",
       "1                     False                     False   \n",
       "2                     False                      True   \n",
       "3                     False                     False   \n",
       "4                      True                     False   \n",
       "\n",
       "   Weather_Conditions_Sunny  Traffic_Conditions_High  Traffic_Conditions_Low  \\\n",
       "0                     False                    False                   False   \n",
       "1                     False                    False                   False   \n",
       "2                     False                    False                   False   \n",
       "3                     False                    False                    True   \n",
       "4                     False                     True                   False   \n",
       "\n",
       "   Traffic_Conditions_Medium  Vehicle_Type_Bicycle  Vehicle_Type_Bike  \\\n",
       "0                       True                 False              False   \n",
       "1                       True                 False              False   \n",
       "2                       True                 False               True   \n",
       "3                      False                 False               True   \n",
       "4                      False                 False               True   \n",
       "\n",
       "   Vehicle_Type_Car  \n",
       "0              True  \n",
       "1              True  \n",
       "2             False  \n",
       "3             False  \n",
       "4             False  \n",
       "\n",
       "[5 rows x 22 columns]"
      ]
     },
     "execution_count": 9,
     "metadata": {},
     "output_type": "execute_result"
    }
   ],
   "source": [
    "df.head()"
   ]
  },
  {
   "cell_type": "markdown",
   "id": "8e648e68-d0a6-4a38-b39f-0ad263a40395",
   "metadata": {},
   "source": [
    "### Step 2 - Exploratory Data Analysis (EDA)"
   ]
  },
  {
   "cell_type": "code",
   "execution_count": 10,
   "id": "323e9556-01b4-4530-8b74-83b67753de01",
   "metadata": {
    "scrolled": true
   },
   "outputs": [
    {
     "data": {
      "text/html": [
       "<div>\n",
       "<style scoped>\n",
       "    .dataframe tbody tr th:only-of-type {\n",
       "        vertical-align: middle;\n",
       "    }\n",
       "\n",
       "    .dataframe tbody tr th {\n",
       "        vertical-align: top;\n",
       "    }\n",
       "\n",
       "    .dataframe thead th {\n",
       "        text-align: right;\n",
       "    }\n",
       "</style>\n",
       "<table border=\"1\" class=\"dataframe\">\n",
       "  <thead>\n",
       "    <tr style=\"text-align: right;\">\n",
       "      <th></th>\n",
       "      <th>Distance</th>\n",
       "      <th>Delivery_Person_Experience</th>\n",
       "      <th>Restaurant_Rating</th>\n",
       "      <th>Customer_Rating</th>\n",
       "      <th>Delivery_Time</th>\n",
       "      <th>Order_Cost</th>\n",
       "      <th>Tip_Amount</th>\n",
       "    </tr>\n",
       "  </thead>\n",
       "  <tbody>\n",
       "    <tr>\n",
       "      <th>count</th>\n",
       "      <td>2.000000e+02</td>\n",
       "      <td>200.000000</td>\n",
       "      <td>200.000000</td>\n",
       "      <td>200.000000</td>\n",
       "      <td>2.000000e+02</td>\n",
       "      <td>2.000000e+02</td>\n",
       "      <td>200.000000</td>\n",
       "    </tr>\n",
       "    <tr>\n",
       "      <th>mean</th>\n",
       "      <td>-1.643130e-16</td>\n",
       "      <td>5.250000</td>\n",
       "      <td>3.738500</td>\n",
       "      <td>3.686500</td>\n",
       "      <td>3.730349e-16</td>\n",
       "      <td>-2.042810e-16</td>\n",
       "      <td>46.616650</td>\n",
       "    </tr>\n",
       "    <tr>\n",
       "      <th>std</th>\n",
       "      <td>1.002509e+00</td>\n",
       "      <td>2.745027</td>\n",
       "      <td>0.703021</td>\n",
       "      <td>0.697063</td>\n",
       "      <td>1.002509e+00</td>\n",
       "      <td>1.002509e+00</td>\n",
       "      <td>29.361706</td>\n",
       "    </tr>\n",
       "    <tr>\n",
       "      <th>min</th>\n",
       "      <td>-1.608593e+00</td>\n",
       "      <td>1.000000</td>\n",
       "      <td>2.500000</td>\n",
       "      <td>2.600000</td>\n",
       "      <td>-1.857269e+00</td>\n",
       "      <td>-1.688954e+00</td>\n",
       "      <td>1.240000</td>\n",
       "    </tr>\n",
       "    <tr>\n",
       "      <th>25%</th>\n",
       "      <td>-7.924313e-01</td>\n",
       "      <td>3.000000</td>\n",
       "      <td>3.200000</td>\n",
       "      <td>3.100000</td>\n",
       "      <td>-7.896704e-01</td>\n",
       "      <td>-9.013569e-01</td>\n",
       "      <td>21.602500</td>\n",
       "    </tr>\n",
       "    <tr>\n",
       "      <th>50%</th>\n",
       "      <td>-1.806765e-01</td>\n",
       "      <td>5.000000</td>\n",
       "      <td>3.800000</td>\n",
       "      <td>3.700000</td>\n",
       "      <td>7.662482e-02</td>\n",
       "      <td>-1.925947e-02</td>\n",
       "      <td>47.530000</td>\n",
       "    </tr>\n",
       "    <tr>\n",
       "      <th>75%</th>\n",
       "      <td>7.325599e-01</td>\n",
       "      <td>8.000000</td>\n",
       "      <td>4.300000</td>\n",
       "      <td>4.300000</td>\n",
       "      <td>8.789834e-01</td>\n",
       "      <td>9.076026e-01</td>\n",
       "      <td>70.245000</td>\n",
       "    </tr>\n",
       "    <tr>\n",
       "      <th>max</th>\n",
       "      <td>1.963762e+00</td>\n",
       "      <td>10.000000</td>\n",
       "      <td>5.000000</td>\n",
       "      <td>5.000000</td>\n",
       "      <td>1.652608e+00</td>\n",
       "      <td>1.737826e+00</td>\n",
       "      <td>99.740000</td>\n",
       "    </tr>\n",
       "  </tbody>\n",
       "</table>\n",
       "</div>"
      ],
      "text/plain": [
       "           Distance  Delivery_Person_Experience  Restaurant_Rating  \\\n",
       "count  2.000000e+02                  200.000000         200.000000   \n",
       "mean  -1.643130e-16                    5.250000           3.738500   \n",
       "std    1.002509e+00                    2.745027           0.703021   \n",
       "min   -1.608593e+00                    1.000000           2.500000   \n",
       "25%   -7.924313e-01                    3.000000           3.200000   \n",
       "50%   -1.806765e-01                    5.000000           3.800000   \n",
       "75%    7.325599e-01                    8.000000           4.300000   \n",
       "max    1.963762e+00                   10.000000           5.000000   \n",
       "\n",
       "       Customer_Rating  Delivery_Time    Order_Cost  Tip_Amount  \n",
       "count       200.000000   2.000000e+02  2.000000e+02  200.000000  \n",
       "mean          3.686500   3.730349e-16 -2.042810e-16   46.616650  \n",
       "std           0.697063   1.002509e+00  1.002509e+00   29.361706  \n",
       "min           2.600000  -1.857269e+00 -1.688954e+00    1.240000  \n",
       "25%           3.100000  -7.896704e-01 -9.013569e-01   21.602500  \n",
       "50%           3.700000   7.662482e-02 -1.925947e-02   47.530000  \n",
       "75%           4.300000   8.789834e-01  9.076026e-01   70.245000  \n",
       "max           5.000000   1.652608e+00  1.737826e+00   99.740000  "
      ]
     },
     "execution_count": 10,
     "metadata": {},
     "output_type": "execute_result"
    }
   ],
   "source": [
    "# Descriptive Statistics\n",
    "df.describe()"
   ]
  },
  {
   "cell_type": "code",
   "execution_count": 11,
   "id": "aa0d72fd-2941-4ec6-aea6-6c1c386d5e2c",
   "metadata": {},
   "outputs": [],
   "source": [
    "# Correlation Analysis\n",
    "import seaborn as sns\n",
    "import matplotlib.pyplot as plt"
   ]
  },
  {
   "cell_type": "code",
   "execution_count": 12,
   "id": "323d9cfc-6807-4546-b7a1-599ca42087a2",
   "metadata": {},
   "outputs": [
    {
     "data": {
      "image/png": "[encoded data removed]",
      "text/plain": [
       "<Figure size 1200x800 with 2 Axes>"
      ]
     },
     "metadata": {},
     "output_type": "display_data"
    }
   ],
   "source": [
    "numeric_df = df.select_dtypes(include='number') # # Compute correlation matrix using numeric columns\n",
    "plt.figure(figsize=(12, 8))\n",
    "sns.heatmap(numeric_df.corr(), annot=True, cmap=\"coolwarm\")\n",
    "plt.title(\"Feature Correlation Matrix\")\n",
    "plt.show()"
   ]
  },
  {
   "cell_type": "code",
   "execution_count": 13,
   "id": "00b1c9c5-46fd-43d4-996c-e5e4eb41979f",
   "metadata": {},
   "outputs": [
    {
     "data": {
      "image/png": "[encoded data removed]",
      "text/plain": [
       "<Figure size 640x480 with 1 Axes>"
      ]
     },
     "metadata": {},
     "output_type": "display_data"
    }
   ],
   "source": [
    "# Outlier Detection using Boxplot\n",
    "sns.boxplot(df[\"Delivery_Time\"])\n",
    "plt.show()"
   ]
  },
  {
   "cell_type": "code",
   "execution_count": 14,
   "id": "5ff27d9a-14f5-4c47-ad49-c7556057e1f7",
   "metadata": {},
   "outputs": [
    {
     "name": "stdout",
     "output_type": "stream",
     "text": [
      "Q1= -0.789670350816316, Q3= 0.878983358156664, IQR= 1.6686537089729798\n",
      "<class 'pandas.core.frame.DataFrame'>\n",
      "RangeIndex: 200 entries, 0 to 199\n",
      "Data columns (total 22 columns):\n",
      " #   Column                      Non-Null Count  Dtype  \n",
      "---  ------                      --------------  -----  \n",
      " 0   Order_ID                    200 non-null    object \n",
      " 1   Customer_Location           200 non-null    object \n",
      " 2   Restaurant_Location         200 non-null    object \n",
      " 3   Distance                    200 non-null    float64\n",
      " 4   Delivery_Person_Experience  200 non-null    int64  \n",
      " 5   Order_Priority              200 non-null    object \n",
      " 6   Order_Time                  200 non-null    object \n",
      " 7   Restaurant_Rating           200 non-null    float64\n",
      " 8   Customer_Rating             200 non-null    float64\n",
      " 9   Delivery_Time               200 non-null    float64\n",
      " 10  Order_Cost                  200 non-null    float64\n",
      " 11  Tip_Amount                  200 non-null    float64\n",
      " 12  Weather_Conditions_Cloudy   200 non-null    bool   \n",
      " 13  Weather_Conditions_Rainy    200 non-null    bool   \n",
      " 14  Weather_Conditions_Snowy    200 non-null    bool   \n",
      " 15  Weather_Conditions_Sunny    200 non-null    bool   \n",
      " 16  Traffic_Conditions_High     200 non-null    bool   \n",
      " 17  Traffic_Conditions_Low      200 non-null    bool   \n",
      " 18  Traffic_Conditions_Medium   200 non-null    bool   \n",
      " 19  Vehicle_Type_Bicycle        200 non-null    bool   \n",
      " 20  Vehicle_Type_Bike           200 non-null    bool   \n",
      " 21  Vehicle_Type_Car            200 non-null    bool   \n",
      "dtypes: bool(10), float64(6), int64(1), object(5)\n",
      "memory usage: 20.8+ KB\n"
     ]
    }
   ],
   "source": [
    "Q1 = df['Delivery_Time'].quantile(0.25)\n",
    "Q3 = df['Delivery_Time'].quantile(0.75)\n",
    "IQR = Q3 - Q1\n",
    "df = df[(df['Delivery_Time'] >= Q1 - 1.5 * IQR) & (df['Delivery_Time'] <= Q3 + 1.5 * IQR)]\n",
    "\n",
    "print(f\"{Q1= }, {Q3= }, {IQR= }\")\n",
    "df.info()"
   ]
  },
  {
   "cell_type": "markdown",
   "id": "067eecca-c35d-4a6e-8686-4e1ebaa97f1c",
   "metadata": {},
   "source": [
    "### Step 3 - Feature Engineering"
   ]
  },
  {
   "cell_type": "code",
   "execution_count": 15,
   "id": "e7d27bc8-cd60-46c9-9224-35162b3aa650",
   "metadata": {},
   "outputs": [],
   "source": [
    "# Distance Calculation\n",
    "df['Rush_Hour'] = df['Hour'].apply(lambda x: 1 if x in [7,8,9,17,18,19] else 0) if 'Hour' in df.columns else 0"
   ]
  },
  {
   "cell_type": "code",
   "execution_count": 16,
   "id": "210b693d-4e3b-4118-9a16-c42c582f03be",
   "metadata": {},
   "outputs": [
    {
     "data": {
      "text/plain": [
       "Rush_Hour\n",
       "0    200\n",
       "Name: count, dtype: int64"
      ]
     },
     "execution_count": 16,
     "metadata": {},
     "output_type": "execute_result"
    }
   ],
   "source": [
    "df[\"Rush_Hour\"].value_counts()"
   ]
  },
  {
   "cell_type": "markdown",
   "id": "bdd50bd4-2a1c-48b5-a7cb-3aca6abaec13",
   "metadata": {},
   "source": [
    "## Phase 2: Predictive Modeling\n",
    "### Step 4 - Linear Regression Model"
   ]
  },
  {
   "cell_type": "code",
   "execution_count": 17,
   "id": "e44b9258-dab9-4345-adf7-1b17578e2949",
   "metadata": {},
   "outputs": [],
   "source": [
    "# Model Building\n",
    "from sklearn.linear_model import LinearRegression\n",
    "from sklearn.metrics import mean_squared_error, r2_score, mean_absolute_error\n",
    "\n",
    "df_model = df.copy() # Make a copy of dataframe\n",
    "df_model = df_model.drop(columns=['Order_ID', 'Customer_Location', 'Restaurant_Location', \n",
    "    'Order_Priority', 'Order_Time'])\n",
    "\n",
    "df_model = df_model.astype({col: int for col in df_model.select_dtypes('bool').columns})"
   ]
  },
  {
   "cell_type": "code",
   "execution_count": 18,
   "id": "cba316ee-342d-4ddd-ade6-f556dbca2408",
   "metadata": {},
   "outputs": [],
   "source": [
    "X = df_model.drop('Delivery_Time', axis=1)\n",
    "y = df_model['Delivery_Time']"
   ]
  },
  {
   "cell_type": "code",
   "execution_count": 19,
   "id": "7b4a88de-19bb-484c-8d4b-82a7289861e4",
   "metadata": {},
   "outputs": [
    {
     "data": {
      "text/plain": [
       "((160, 17), (40, 17), (160,), (40,))"
      ]
     },
     "execution_count": 19,
     "metadata": {},
     "output_type": "execute_result"
    }
   ],
   "source": [
    "# Train-Test split\n",
    "from sklearn.model_selection import train_test_split\n",
    "\n",
    "X_train, X_test, y_train, y_test = train_test_split(X, y, train_size=0.8, test_size=0.2, random_state=20)\n",
    "X_train.shape, X_test.shape, y_train.shape, y_test.shape"
   ]
  },
  {
   "cell_type": "code",
   "execution_count": 20,
   "id": "cda5c76e-1662-41ba-9a98-01f8635b5a19",
   "metadata": {},
   "outputs": [],
   "source": [
    "lr = LinearRegression()\n",
    "lr.fit(X_train, y_train)\n",
    "y_pred = lr.predict(X_test)"
   ]
  },
  {
   "cell_type": "code",
   "execution_count": 21,
   "id": "c24a42fb-c39e-4baf-a65c-c4cbac4b1a7e",
   "metadata": {},
   "outputs": [
    {
     "name": "stdout",
     "output_type": "stream",
     "text": [
      "MSE: 1.256203408445037\n",
      "MAE: 0.946149242891348\n",
      "R² Score: -0.19580295137554482\n"
     ]
    }
   ],
   "source": [
    "# Evaluation\n",
    "print(f\"MSE: {mean_squared_error(y_test, y_pred)}\")\n",
    "print(f\"MAE: {mean_absolute_error(y_test, y_pred)}\")\n",
    "print(f\"R² Score: {r2_score(y_test, y_pred)}\")"
   ]
  },
  {
   "cell_type": "markdown",
   "id": "3cfba3c7-0610-463c-b4be-8ddaee62004d",
   "metadata": {},
   "source": [
    "### Step 5 - Logistic Regression Model (for Categorization)"
   ]
  },
  {
   "cell_type": "code",
   "execution_count": 22,
   "id": "4424b71f-ad16-43f2-bf95-818ba615fb83",
   "metadata": {},
   "outputs": [],
   "source": [
    "# Classify as 1 = Delayed, 0 = Fast using median as threshold\n",
    "df_model['Delivery_Status'] = df_model['Delivery_Time'].apply(\n",
    "                            lambda x: 1 if x > df_model['Delivery_Time'].median() else 0)\n"
   ]
  },
  {
   "cell_type": "code",
   "execution_count": 23,
   "id": "0ca887cd-6d52-4eac-a946-c404c5936673",
   "metadata": {},
   "outputs": [],
   "source": [
    "# Model Implementation\n",
    "X_class = df_model.drop(['Delivery_Time', 'Delivery_Status'], axis=1)\n",
    "y_class = df_model['Delivery_Status']"
   ]
  },
  {
   "cell_type": "code",
   "execution_count": 24,
   "id": "728f703b-e59b-44c7-a287-1f23e31ee8d6",
   "metadata": {},
   "outputs": [],
   "source": [
    "# Train-Test Split\n",
    "from sklearn.model_selection import train_test_split\n",
    "\n",
    "Xc_train, Xc_test, yc_train, yc_test = train_test_split(X_class, y_class, train_size=0.8, test_size=0.2, random_state=20)"
   ]
  },
  {
   "cell_type": "code",
   "execution_count": 25,
   "id": "bb87a58b-7dd8-4af1-85f1-edd17152141b",
   "metadata": {},
   "outputs": [],
   "source": [
    "from sklearn.linear_model import LogisticRegression\n",
    "\n",
    "logreg = LogisticRegression(max_iter=1000)\n",
    "logreg.fit(Xc_train, yc_train)\n",
    "yc_pred = logreg.predict(Xc_test)"
   ]
  },
  {
   "cell_type": "code",
   "execution_count": 26,
   "id": "4bfaf327-9b8f-4400-9a8e-dd8225edd5fe",
   "metadata": {},
   "outputs": [
    {
     "name": "stdout",
     "output_type": "stream",
     "text": [
      "Accuracy: 0.45\n",
      "Precision: 0.43478260869565216\n",
      "Recall: 0.5263157894736842\n",
      "F1 Score: 0.47619047619047616\n",
      "\n",
      "Confusion Matrix:\n",
      " [[ 8 13]\n",
      " [ 9 10]]\n",
      "\n",
      "Classification Report:\n",
      "               precision    recall  f1-score   support\n",
      "\n",
      "           0       0.47      0.38      0.42        21\n",
      "           1       0.43      0.53      0.48        19\n",
      "\n",
      "    accuracy                           0.45        40\n",
      "   macro avg       0.45      0.45      0.45        40\n",
      "weighted avg       0.45      0.45      0.45        40\n",
      "\n"
     ]
    }
   ],
   "source": [
    "from sklearn.metrics import accuracy_score, precision_score, recall_score, f1_score, confusion_matrix, classification_report\n",
    "\n",
    "print(f\"Accuracy: {accuracy_score(yc_test, yc_pred)}\")\n",
    "print(f\"Precision: {precision_score(yc_test, yc_pred)}\")\n",
    "print(f\"Recall: {recall_score(yc_test, yc_pred)}\")\n",
    "print(f\"F1 Score: {f1_score(yc_test, yc_pred)}\")\n",
    "print(f\"\\nConfusion Matrix:\\n {confusion_matrix(yc_test, yc_pred)}\")\n",
    "print(f\"\\nClassification Report:\\n {classification_report(yc_test, yc_pred)}\")"
   ]
  },
  {
   "cell_type": "markdown",
   "id": "01b99533-ebb9-4517-9da0-2a0afd85faf1",
   "metadata": {},
   "source": [
    "## Phase 3: Reporting and Insights\n",
    "### Step 6 - Model Evaluation and Comparison"
   ]
  },
  {
   "cell_type": "code",
   "execution_count": 27,
   "id": "9e24c483-e113-4145-9c0e-de1764bb8348",
   "metadata": {},
   "outputs": [
    {
     "data": {
      "image/png": "[encoded data removed]",
      "text/plain": [
       "<Figure size 640x480 with 2 Axes>"
      ]
     },
     "metadata": {},
     "output_type": "display_data"
    }
   ],
   "source": [
    "# import seaborn as sns\n",
    "from sklearn.metrics import ConfusionMatrixDisplay\n",
    "\n",
    "ConfusionMatrixDisplay.from_estimator(logreg, Xc_test, yc_test, cmap='Blues')\n",
    "plt.title(\"Logistic Regression - Confusion Matrix\")\n",
    "plt.show()"
   ]
  },
  {
   "cell_type": "code",
   "execution_count": 28,
   "id": "a15f4069-dfdf-405d-959f-88cdbbd66281",
   "metadata": {},
   "outputs": [
    {
     "data": {
      "image/png": "[encoded data removed]",
      "text/plain": [
       "<Figure size 640x480 with 1 Axes>"
      ]
     },
     "metadata": {},
     "output_type": "display_data"
    }
   ],
   "source": [
    "# ROC Curve\n",
    "from sklearn.metrics import roc_curve, roc_auc_score\n",
    "\n",
    "fpr, tpr, _ = roc_curve(yc_test, logreg.predict_proba(Xc_test)[:, 1])\n",
    "plt.plot(fpr, tpr, label='Logistic Regression (AUC = {:.2f})'.format(roc_auc_score(yc_test, logreg.predict_proba(Xc_test)[:,1])))\n",
    "plt.plot([0,1], [0,1], 'k--')\n",
    "plt.xlabel(\"False Positive Rate\")\n",
    "plt.ylabel(\"True Positive Rate\")\n",
    "plt.title(\"ROC Curve\")\n",
    "plt.legend()\n",
    "plt.show()"
   ]
  },
  {
   "cell_type": "code",
   "execution_count": 29,
   "id": "ed0b867f-6643-43f3-bd2c-551c6fdd98eb",
   "metadata": {},
   "outputs": [
    {
     "name": "stdout",
     "output_type": "stream",
     "text": [
      "🔹 Linear Regression Evaluation:\n",
      "  MSE      : 1.26\n",
      "  MAE      : 0.95\n",
      "  R² Score : -0.20\n",
      "\n",
      "🔹 Logistic Regression Evaluation:\n",
      "  Accuracy : 0.45\n",
      "  Precision: 0.43\n",
      "  Recall   : 0.53\n",
      "  F1 Score : 0.48\n"
     ]
    }
   ],
   "source": [
    "print(f\"🔹 Linear Regression Evaluation:\")\n",
    "print(f\"  MSE      : {mean_squared_error(y_test, y_pred):.2f}\")\n",
    "print(f\"  MAE      : {mean_absolute_error(y_test, y_pred):.2f}\")\n",
    "print(f\"  R² Score : {r2_score(y_test, y_pred):.2f}\")\n",
    "\n",
    "print(f\"\\n🔹 Logistic Regression Evaluation:\")\n",
    "print(f\"  Accuracy : {accuracy_score(yc_test, yc_pred):.2f}\")\n",
    "print(f\"  Precision: {precision_score(yc_test, yc_pred):.2f}\")\n",
    "print(f\"  Recall   : {recall_score(yc_test, yc_pred):.2f}\")\n",
    "print(f\"  F1 Score : {f1_score(yc_test, yc_pred):.2f}\")"
   ]
  },
  {
   "cell_type": "markdown",
   "id": "d77cfb6c-3fac-4696-ae77-0f287a381cf6",
   "metadata": {},
   "source": [
    "### Step 7 - Actionable Insights"
   ]
  },
  {
   "cell_type": "markdown",
   "id": "a2fbb8a8-2cc8-4bbe-a9f2-da1ecd0f1cdc",
   "metadata": {},
   "source": [
    "#### 1. Optimizing Delivery Routes\n",
    "- **Insight:** Long distances, bad traffic, and poor weather increase delivery time.\n",
    "- **Action:** Integrate model predictions with real-time traffic and weather APIs to suggest faster routes dynamically.\n",
    "\n",
    "#### 2. Adjusting Staffing During High-Traffic Periods\n",
    "- **Insight:** Deliveries made during rush hours and high-traffic conditions are often delayed.\n",
    "- **Action:** Schedule more delivery staff during peak hours and assign experienced drivers or faster vehicles.\n",
    "\n",
    "#### 3. Providing Better Training to Delivery Staff\n",
    "- **Insight:** Lower experience correlates with slower deliveries.\n",
    "- **Action:** Implement training programs focused on route efficiency and delivery best practices for new or underperforming staff.\n",
    "\n",
    "#### 4. Smart Order Prioritization\n",
    "- **Insight:** High-priority orders are still at risk of delay if traffic/weather is poor.\n",
    "- **Action:** Use model predictions to prioritize orders dynamically based on both urgency and external conditions.\n",
    "\n",
    "#### 5. Proactive Customer Communication\n",
    "- **Insight:** Delays can often be predicted early in the process.\n",
    "- **Action:** Notify customers in advance when a delay is likely and offer real-time tracking or compensation when appropriate."
   ]
  },
  {
   "cell_type": "code",
   "execution_count": null,
   "id": "581660fb-2db1-41db-a74e-13a50601ea15",
   "metadata": {},
   "outputs": [],
   "source": []
  },
  {
   "cell_type": "code",
   "execution_count": null,
   "id": "7c286ea4-f47d-4bcd-9ba9-cde08de668cf",
   "metadata": {},
   "outputs": [],
   "source": []
  },
  {
   "cell_type": "code",
   "execution_count": null,
   "id": "9f3b3e2c-eff0-4213-b9db-0b27f01bca9a",
   "metadata": {},
   "outputs": [],
   "source": []
  },
  {
   "cell_type": "code",
   "execution_count": null,
   "id": "b33957c5-82b8-461e-94d7-29e05418db8e",
   "metadata": {},
   "outputs": [],
   "source": []
  },
  {
   "cell_type": "code",
   "execution_count": null,
   "id": "c6086c49-f99c-4b42-905c-09fd50716f19",
   "metadata": {},
   "outputs": [],
   "source": []
  },
  {
   "cell_type": "code",
   "execution_count": null,
   "id": "779d1452-2d91-4875-b566-93ef74c94b82",
   "metadata": {},
   "outputs": [],
   "source": []
  },
  {
   "cell_type": "code",
   "execution_count": null,
   "id": "b773c94e-e693-42d4-a608-fe9aa35bd4c4",
   "metadata": {},
   "outputs": [],
   "source": []
  },
  {
   "cell_type": "code",
   "execution_count": null,
   "id": "6788bde1-4784-409c-b655-d772dfd2263b",
   "metadata": {},
   "outputs": [],
   "source": []
  },
  {
   "cell_type": "code",
   "execution_count": null,
   "id": "6696d2b0-20d6-42b6-ac51-0fa93dfce346",
   "metadata": {},
   "outputs": [],
   "source": []
  },
  {
   "cell_type": "code",
   "execution_count": null,
   "id": "40fc7163-2193-4d55-985f-4b37a1227476",
   "metadata": {},
   "outputs": [],
   "source": []
  },
  {
   "cell_type": "code",
   "execution_count": null,
   "id": "7eeddbc0-d8b7-4dd6-a835-fe8e6758b011",
   "metadata": {},
   "outputs": [],
   "source": []
  },
  {
   "cell_type": "code",
   "execution_count": null,
   "id": "dc7a0378-d241-4657-b939-c36167ce9849",
   "metadata": {},
   "outputs": [],
   "source": []
  },
  {
   "cell_type": "code",
   "execution_count": null,
   "id": "2efb53bd-d095-41b9-b669-1dc037555edf",
   "metadata": {},
   "outputs": [],
   "source": []
  },
  {
   "cell_type": "code",
   "execution_count": null,
   "id": "b74983af-c000-496a-a9a0-9192a3046372",
   "metadata": {},
   "outputs": [],
   "source": []
  },
  {
   "cell_type": "code",
   "execution_count": null,
   "id": "6714acb8-d07b-480e-91d9-3aa6ce82d538",
   "metadata": {},
   "outputs": [],
   "source": []
  },
  {
   "cell_type": "code",
   "execution_count": null,
   "id": "6dc67948-99a4-41fd-b999-1a8c5334d8cb",
   "metadata": {},
   "outputs": [],
   "source": []
  },
  {
   "cell_type": "code",
   "execution_count": null,
   "id": "2b17a796-8d54-481a-b6e6-ec594a768a5e",
   "metadata": {},
   "outputs": [],
   "source": [
    "\n"
   ]
  }
 ],
 "metadata": {
  "kernelspec": {
   "display_name": "Python 3 (ipykernel)",
   "language": "python",
   "name": "python3"
  },
  "language_info": {
   "codemirror_mode": {
    "name": "ipython",
    "version": 3
   },
   "file_extension": ".py",
   "mimetype": "text/x-python",
   "name": "python",
   "nbconvert_exporter": "python",
   "pygments_lexer": "ipython3",
   "version": "3.12.7"
  }
 },
 "nbformat": 4,
 "nbformat_minor": 5
}
